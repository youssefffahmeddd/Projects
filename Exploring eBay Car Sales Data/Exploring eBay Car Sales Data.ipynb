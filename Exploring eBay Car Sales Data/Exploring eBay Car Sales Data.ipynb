{
 "cells": [
  {
   "cell_type": "markdown",
   "id": "8f945456",
   "metadata": {},
   "source": [
    "## Exploring eBay Car Sales Data"
   ]
  },
  {
   "cell_type": "markdown",
   "id": "402b3d34",
   "metadata": {},
   "source": [
    "In this project we'll work with a dataset of used cars from eBay Kleinanzeigen, a classifieds section of the German eBay website.\n",
    "\n",
    "The data dictionary provided with data is as follows:\n",
    "\n",
    "- `dateCrawled` - When this ad was first crawled. All field-values are taken from this date.\n",
    "- `name` - Name of the car.\n",
    "- `seller` - Whether the seller is private or a dealer.\n",
    "- `offerType` - The type of listing\n",
    "- `price` - The price on the ad to sell the car.\n",
    "- `abtest` - Whether the listing is included in an A/B test.\n",
    "- `vehicleType` - The vehicle Type.\n",
    "- `yearOfRegistration` - The year in which the car was first registered.\n",
    "- `gearbox` - The transmission type.\n",
    "- `powerPS` - The power of the car in PS.\n",
    "- `model` - The car model name.\n",
    "- `odometer` - How many kilometers the car has driven.\n",
    "- `monthOfRegistration` - The month in which the car was first registered.\n",
    "- `fuelType` - What type of fuel the car uses.\n",
    "- `brand` - The brand of the car.\n",
    "- `notRepairedDamage` - If the car has a damage which is not yet repaired.\n",
    "- `dateCreated` - The date on which the eBay listing was created.\n",
    "- `nrOfPictures` - The number of pictures in the ad.\n",
    "- `postalCode` - The postal code for the location of the vehicle.\n",
    "- `lastSeenOnline` - When the crawler saw this ad last online."
   ]
  },
  {
   "cell_type": "markdown",
   "id": "1bb84f66",
   "metadata": {},
   "source": [
    "The aim of this project is to clean the data and analyze the included used car listings. "
   ]
  },
  {
   "cell_type": "markdown",
   "id": "7a749949",
   "metadata": {},
   "source": [
    "First we import pandas and numpy, then we read the csv file"
   ]
  },
  {
   "cell_type": "code",
   "execution_count": 1,
   "id": "7d197b8e",
   "metadata": {},
   "outputs": [],
   "source": [
    "import numpy as np\n",
    "import pandas as pd\n",
    "autos = pd.read_csv(r\"C:\\Users\\youss\\Desktop\\DataQuest\\Projects\\Exploring eBay Car Sales Data\\autos.csv\", encoding=\"Latin-1\")"
   ]
  },
  {
   "cell_type": "code",
   "execution_count": 2,
   "id": "748aef29",
   "metadata": {},
   "outputs": [
    {
     "data": {
      "text/html": [
       "<div>\n",
       "<style scoped>\n",
       "    .dataframe tbody tr th:only-of-type {\n",
       "        vertical-align: middle;\n",
       "    }\n",
       "\n",
       "    .dataframe tbody tr th {\n",
       "        vertical-align: top;\n",
       "    }\n",
       "\n",
       "    .dataframe thead th {\n",
       "        text-align: right;\n",
       "    }\n",
       "</style>\n",
       "<table border=\"1\" class=\"dataframe\">\n",
       "  <thead>\n",
       "    <tr style=\"text-align: right;\">\n",
       "      <th></th>\n",
       "      <th>dateCrawled</th>\n",
       "      <th>name</th>\n",
       "      <th>seller</th>\n",
       "      <th>offerType</th>\n",
       "      <th>price</th>\n",
       "      <th>abtest</th>\n",
       "      <th>vehicleType</th>\n",
       "      <th>yearOfRegistration</th>\n",
       "      <th>gearbox</th>\n",
       "      <th>powerPS</th>\n",
       "      <th>model</th>\n",
       "      <th>kilometer</th>\n",
       "      <th>monthOfRegistration</th>\n",
       "      <th>fuelType</th>\n",
       "      <th>brand</th>\n",
       "      <th>notRepairedDamage</th>\n",
       "      <th>dateCreated</th>\n",
       "      <th>nrOfPictures</th>\n",
       "      <th>postalCode</th>\n",
       "      <th>lastSeen</th>\n",
       "    </tr>\n",
       "  </thead>\n",
       "  <tbody>\n",
       "    <tr>\n",
       "      <th>0</th>\n",
       "      <td>2016-03-24 11:52:17</td>\n",
       "      <td>Golf_3_1.6</td>\n",
       "      <td>privat</td>\n",
       "      <td>Angebot</td>\n",
       "      <td>480</td>\n",
       "      <td>test</td>\n",
       "      <td>NaN</td>\n",
       "      <td>1993</td>\n",
       "      <td>manuell</td>\n",
       "      <td>0</td>\n",
       "      <td>golf</td>\n",
       "      <td>150000</td>\n",
       "      <td>0</td>\n",
       "      <td>benzin</td>\n",
       "      <td>volkswagen</td>\n",
       "      <td>NaN</td>\n",
       "      <td>2016-03-24 00:00:00</td>\n",
       "      <td>0</td>\n",
       "      <td>70435</td>\n",
       "      <td>2016-04-07 03:16:57</td>\n",
       "    </tr>\n",
       "    <tr>\n",
       "      <th>1</th>\n",
       "      <td>2016-03-24 10:58:45</td>\n",
       "      <td>A5_Sportback_2.7_Tdi</td>\n",
       "      <td>privat</td>\n",
       "      <td>Angebot</td>\n",
       "      <td>18300</td>\n",
       "      <td>test</td>\n",
       "      <td>coupe</td>\n",
       "      <td>2011</td>\n",
       "      <td>manuell</td>\n",
       "      <td>190</td>\n",
       "      <td>NaN</td>\n",
       "      <td>125000</td>\n",
       "      <td>5</td>\n",
       "      <td>diesel</td>\n",
       "      <td>audi</td>\n",
       "      <td>ja</td>\n",
       "      <td>2016-03-24 00:00:00</td>\n",
       "      <td>0</td>\n",
       "      <td>66954</td>\n",
       "      <td>2016-04-07 01:46:50</td>\n",
       "    </tr>\n",
       "    <tr>\n",
       "      <th>2</th>\n",
       "      <td>2016-03-14 12:52:21</td>\n",
       "      <td>Jeep_Grand_Cherokee_\"Overland\"</td>\n",
       "      <td>privat</td>\n",
       "      <td>Angebot</td>\n",
       "      <td>9800</td>\n",
       "      <td>test</td>\n",
       "      <td>suv</td>\n",
       "      <td>2004</td>\n",
       "      <td>automatik</td>\n",
       "      <td>163</td>\n",
       "      <td>grand</td>\n",
       "      <td>125000</td>\n",
       "      <td>8</td>\n",
       "      <td>diesel</td>\n",
       "      <td>jeep</td>\n",
       "      <td>NaN</td>\n",
       "      <td>2016-03-14 00:00:00</td>\n",
       "      <td>0</td>\n",
       "      <td>90480</td>\n",
       "      <td>2016-04-05 12:47:46</td>\n",
       "    </tr>\n",
       "    <tr>\n",
       "      <th>3</th>\n",
       "      <td>2016-03-17 16:54:04</td>\n",
       "      <td>GOLF_4_1_4__3TÜRER</td>\n",
       "      <td>privat</td>\n",
       "      <td>Angebot</td>\n",
       "      <td>1500</td>\n",
       "      <td>test</td>\n",
       "      <td>kleinwagen</td>\n",
       "      <td>2001</td>\n",
       "      <td>manuell</td>\n",
       "      <td>75</td>\n",
       "      <td>golf</td>\n",
       "      <td>150000</td>\n",
       "      <td>6</td>\n",
       "      <td>benzin</td>\n",
       "      <td>volkswagen</td>\n",
       "      <td>nein</td>\n",
       "      <td>2016-03-17 00:00:00</td>\n",
       "      <td>0</td>\n",
       "      <td>91074</td>\n",
       "      <td>2016-03-17 17:40:17</td>\n",
       "    </tr>\n",
       "    <tr>\n",
       "      <th>4</th>\n",
       "      <td>2016-03-31 17:25:20</td>\n",
       "      <td>Skoda_Fabia_1.4_TDI_PD_Classic</td>\n",
       "      <td>privat</td>\n",
       "      <td>Angebot</td>\n",
       "      <td>3600</td>\n",
       "      <td>test</td>\n",
       "      <td>kleinwagen</td>\n",
       "      <td>2008</td>\n",
       "      <td>manuell</td>\n",
       "      <td>69</td>\n",
       "      <td>fabia</td>\n",
       "      <td>90000</td>\n",
       "      <td>7</td>\n",
       "      <td>diesel</td>\n",
       "      <td>skoda</td>\n",
       "      <td>nein</td>\n",
       "      <td>2016-03-31 00:00:00</td>\n",
       "      <td>0</td>\n",
       "      <td>60437</td>\n",
       "      <td>2016-04-06 10:17:21</td>\n",
       "    </tr>\n",
       "  </tbody>\n",
       "</table>\n",
       "</div>"
      ],
      "text/plain": [
       "           dateCrawled                            name  seller offerType  \\\n",
       "0  2016-03-24 11:52:17                      Golf_3_1.6  privat   Angebot   \n",
       "1  2016-03-24 10:58:45            A5_Sportback_2.7_Tdi  privat   Angebot   \n",
       "2  2016-03-14 12:52:21  Jeep_Grand_Cherokee_\"Overland\"  privat   Angebot   \n",
       "3  2016-03-17 16:54:04              GOLF_4_1_4__3TÜRER  privat   Angebot   \n",
       "4  2016-03-31 17:25:20  Skoda_Fabia_1.4_TDI_PD_Classic  privat   Angebot   \n",
       "\n",
       "   price abtest vehicleType  yearOfRegistration    gearbox  powerPS  model  \\\n",
       "0    480   test         NaN                1993    manuell        0   golf   \n",
       "1  18300   test       coupe                2011    manuell      190    NaN   \n",
       "2   9800   test         suv                2004  automatik      163  grand   \n",
       "3   1500   test  kleinwagen                2001    manuell       75   golf   \n",
       "4   3600   test  kleinwagen                2008    manuell       69  fabia   \n",
       "\n",
       "   kilometer  monthOfRegistration fuelType       brand notRepairedDamage  \\\n",
       "0     150000                    0   benzin  volkswagen               NaN   \n",
       "1     125000                    5   diesel        audi                ja   \n",
       "2     125000                    8   diesel        jeep               NaN   \n",
       "3     150000                    6   benzin  volkswagen              nein   \n",
       "4      90000                    7   diesel       skoda              nein   \n",
       "\n",
       "           dateCreated  nrOfPictures  postalCode             lastSeen  \n",
       "0  2016-03-24 00:00:00             0       70435  2016-04-07 03:16:57  \n",
       "1  2016-03-24 00:00:00             0       66954  2016-04-07 01:46:50  \n",
       "2  2016-03-14 00:00:00             0       90480  2016-04-05 12:47:46  \n",
       "3  2016-03-17 00:00:00             0       91074  2016-03-17 17:40:17  \n",
       "4  2016-03-31 00:00:00             0       60437  2016-04-06 10:17:21  "
      ]
     },
     "execution_count": 2,
     "metadata": {},
     "output_type": "execute_result"
    }
   ],
   "source": [
    "autos.head()"
   ]
  },
  {
   "cell_type": "code",
   "execution_count": 3,
   "id": "f6333a03",
   "metadata": {},
   "outputs": [
    {
     "name": "stdout",
     "output_type": "stream",
     "text": [
      "<class 'pandas.core.frame.DataFrame'>\n",
      "RangeIndex: 371528 entries, 0 to 371527\n",
      "Data columns (total 20 columns):\n",
      " #   Column               Non-Null Count   Dtype \n",
      "---  ------               --------------   ----- \n",
      " 0   dateCrawled          371528 non-null  object\n",
      " 1   name                 371528 non-null  object\n",
      " 2   seller               371528 non-null  object\n",
      " 3   offerType            371528 non-null  object\n",
      " 4   price                371528 non-null  int64 \n",
      " 5   abtest               371528 non-null  object\n",
      " 6   vehicleType          333659 non-null  object\n",
      " 7   yearOfRegistration   371528 non-null  int64 \n",
      " 8   gearbox              351319 non-null  object\n",
      " 9   powerPS              371528 non-null  int64 \n",
      " 10  model                351044 non-null  object\n",
      " 11  kilometer            371528 non-null  int64 \n",
      " 12  monthOfRegistration  371528 non-null  int64 \n",
      " 13  fuelType             338142 non-null  object\n",
      " 14  brand                371528 non-null  object\n",
      " 15  notRepairedDamage    299468 non-null  object\n",
      " 16  dateCreated          371528 non-null  object\n",
      " 17  nrOfPictures         371528 non-null  int64 \n",
      " 18  postalCode           371528 non-null  int64 \n",
      " 19  lastSeen             371528 non-null  object\n",
      "dtypes: int64(7), object(13)\n",
      "memory usage: 56.7+ MB\n"
     ]
    }
   ],
   "source": [
    "autos.info()"
   ]
  },
  {
   "cell_type": "markdown",
   "id": "b0ac14fe",
   "metadata": {},
   "source": [
    "After observing the dataframe info we can conclude that it has a total of 371528 entries, 20 columns, 7 with integer values, 13 with string values."
   ]
  },
  {
   "cell_type": "code",
   "execution_count": 4,
   "id": "889ac6fd",
   "metadata": {},
   "outputs": [
    {
     "data": {
      "text/plain": [
       "Index(['dateCrawled', 'name', 'seller', 'offerType', 'price', 'abtest',\n",
       "       'vehicleType', 'yearOfRegistration', 'gearbox', 'powerPS', 'model',\n",
       "       'kilometer', 'monthOfRegistration', 'fuelType', 'brand',\n",
       "       'notRepairedDamage', 'dateCreated', 'nrOfPictures', 'postalCode',\n",
       "       'lastSeen'],\n",
       "      dtype='object')"
      ]
     },
     "execution_count": 4,
     "metadata": {},
     "output_type": "execute_result"
    }
   ],
   "source": [
    "autos.columns"
   ]
  },
  {
   "cell_type": "markdown",
   "id": "d510f284",
   "metadata": {},
   "source": [
    "The column names use camelcase instead of snakecase, so we will fix that using the mapping method"
   ]
  },
  {
   "cell_type": "code",
   "execution_count": 5,
   "id": "29c3296a",
   "metadata": {},
   "outputs": [],
   "source": [
    "mapping_dict = {'dateCrawled':'crawled_date',\n",
    "               'name':'name',\n",
    "               'seller':'seller',\n",
    "               'offerType':'offer_type',\n",
    "               'price':'price',\n",
    "               'abtest':'ab_test',\n",
    "                'vehicleType':'vehicle_type',\n",
    "            'yearOfRegistration':'registration_year',\n",
    "               'gearbox':'gearbox',\n",
    "               'powerPS':'power_ps',\n",
    "                'model':'model',\n",
    "                'kilometer':'kilometers',\n",
    "            'monthOfRegistration':'registration_month',\n",
    "             'fuelType':'fuel_type',\n",
    "             'brand':'brand',\n",
    "             'notRepairedDamage':'unrepaired_damage',\n",
    "              'dateCreated':'ad_created',\n",
    "              'nrOfPictures':'pictures_num',\n",
    "               'postalCode':'postal_code',\n",
    "                'lastSeen':'last_seen'}\n",
    "autos.columns = autos.columns.map(mapping_dict)"
   ]
  },
  {
   "cell_type": "code",
   "execution_count": 6,
   "id": "2565cee9",
   "metadata": {},
   "outputs": [
    {
     "data": {
      "text/html": [
       "<div>\n",
       "<style scoped>\n",
       "    .dataframe tbody tr th:only-of-type {\n",
       "        vertical-align: middle;\n",
       "    }\n",
       "\n",
       "    .dataframe tbody tr th {\n",
       "        vertical-align: top;\n",
       "    }\n",
       "\n",
       "    .dataframe thead th {\n",
       "        text-align: right;\n",
       "    }\n",
       "</style>\n",
       "<table border=\"1\" class=\"dataframe\">\n",
       "  <thead>\n",
       "    <tr style=\"text-align: right;\">\n",
       "      <th></th>\n",
       "      <th>crawled_date</th>\n",
       "      <th>name</th>\n",
       "      <th>seller</th>\n",
       "      <th>offer_type</th>\n",
       "      <th>price</th>\n",
       "      <th>ab_test</th>\n",
       "      <th>vehicle_type</th>\n",
       "      <th>registration_year</th>\n",
       "      <th>gearbox</th>\n",
       "      <th>power_ps</th>\n",
       "      <th>model</th>\n",
       "      <th>kilometers</th>\n",
       "      <th>registration_month</th>\n",
       "      <th>fuel_type</th>\n",
       "      <th>brand</th>\n",
       "      <th>unrepaired_damage</th>\n",
       "      <th>ad_created</th>\n",
       "      <th>pictures_num</th>\n",
       "      <th>postal_code</th>\n",
       "      <th>last_seen</th>\n",
       "    </tr>\n",
       "  </thead>\n",
       "  <tbody>\n",
       "    <tr>\n",
       "      <th>0</th>\n",
       "      <td>2016-03-24 11:52:17</td>\n",
       "      <td>Golf_3_1.6</td>\n",
       "      <td>privat</td>\n",
       "      <td>Angebot</td>\n",
       "      <td>480</td>\n",
       "      <td>test</td>\n",
       "      <td>NaN</td>\n",
       "      <td>1993</td>\n",
       "      <td>manuell</td>\n",
       "      <td>0</td>\n",
       "      <td>golf</td>\n",
       "      <td>150000</td>\n",
       "      <td>0</td>\n",
       "      <td>benzin</td>\n",
       "      <td>volkswagen</td>\n",
       "      <td>NaN</td>\n",
       "      <td>2016-03-24 00:00:00</td>\n",
       "      <td>0</td>\n",
       "      <td>70435</td>\n",
       "      <td>2016-04-07 03:16:57</td>\n",
       "    </tr>\n",
       "    <tr>\n",
       "      <th>1</th>\n",
       "      <td>2016-03-24 10:58:45</td>\n",
       "      <td>A5_Sportback_2.7_Tdi</td>\n",
       "      <td>privat</td>\n",
       "      <td>Angebot</td>\n",
       "      <td>18300</td>\n",
       "      <td>test</td>\n",
       "      <td>coupe</td>\n",
       "      <td>2011</td>\n",
       "      <td>manuell</td>\n",
       "      <td>190</td>\n",
       "      <td>NaN</td>\n",
       "      <td>125000</td>\n",
       "      <td>5</td>\n",
       "      <td>diesel</td>\n",
       "      <td>audi</td>\n",
       "      <td>ja</td>\n",
       "      <td>2016-03-24 00:00:00</td>\n",
       "      <td>0</td>\n",
       "      <td>66954</td>\n",
       "      <td>2016-04-07 01:46:50</td>\n",
       "    </tr>\n",
       "    <tr>\n",
       "      <th>2</th>\n",
       "      <td>2016-03-14 12:52:21</td>\n",
       "      <td>Jeep_Grand_Cherokee_\"Overland\"</td>\n",
       "      <td>privat</td>\n",
       "      <td>Angebot</td>\n",
       "      <td>9800</td>\n",
       "      <td>test</td>\n",
       "      <td>suv</td>\n",
       "      <td>2004</td>\n",
       "      <td>automatik</td>\n",
       "      <td>163</td>\n",
       "      <td>grand</td>\n",
       "      <td>125000</td>\n",
       "      <td>8</td>\n",
       "      <td>diesel</td>\n",
       "      <td>jeep</td>\n",
       "      <td>NaN</td>\n",
       "      <td>2016-03-14 00:00:00</td>\n",
       "      <td>0</td>\n",
       "      <td>90480</td>\n",
       "      <td>2016-04-05 12:47:46</td>\n",
       "    </tr>\n",
       "    <tr>\n",
       "      <th>3</th>\n",
       "      <td>2016-03-17 16:54:04</td>\n",
       "      <td>GOLF_4_1_4__3TÜRER</td>\n",
       "      <td>privat</td>\n",
       "      <td>Angebot</td>\n",
       "      <td>1500</td>\n",
       "      <td>test</td>\n",
       "      <td>kleinwagen</td>\n",
       "      <td>2001</td>\n",
       "      <td>manuell</td>\n",
       "      <td>75</td>\n",
       "      <td>golf</td>\n",
       "      <td>150000</td>\n",
       "      <td>6</td>\n",
       "      <td>benzin</td>\n",
       "      <td>volkswagen</td>\n",
       "      <td>nein</td>\n",
       "      <td>2016-03-17 00:00:00</td>\n",
       "      <td>0</td>\n",
       "      <td>91074</td>\n",
       "      <td>2016-03-17 17:40:17</td>\n",
       "    </tr>\n",
       "    <tr>\n",
       "      <th>4</th>\n",
       "      <td>2016-03-31 17:25:20</td>\n",
       "      <td>Skoda_Fabia_1.4_TDI_PD_Classic</td>\n",
       "      <td>privat</td>\n",
       "      <td>Angebot</td>\n",
       "      <td>3600</td>\n",
       "      <td>test</td>\n",
       "      <td>kleinwagen</td>\n",
       "      <td>2008</td>\n",
       "      <td>manuell</td>\n",
       "      <td>69</td>\n",
       "      <td>fabia</td>\n",
       "      <td>90000</td>\n",
       "      <td>7</td>\n",
       "      <td>diesel</td>\n",
       "      <td>skoda</td>\n",
       "      <td>nein</td>\n",
       "      <td>2016-03-31 00:00:00</td>\n",
       "      <td>0</td>\n",
       "      <td>60437</td>\n",
       "      <td>2016-04-06 10:17:21</td>\n",
       "    </tr>\n",
       "  </tbody>\n",
       "</table>\n",
       "</div>"
      ],
      "text/plain": [
       "          crawled_date                            name  seller offer_type  \\\n",
       "0  2016-03-24 11:52:17                      Golf_3_1.6  privat    Angebot   \n",
       "1  2016-03-24 10:58:45            A5_Sportback_2.7_Tdi  privat    Angebot   \n",
       "2  2016-03-14 12:52:21  Jeep_Grand_Cherokee_\"Overland\"  privat    Angebot   \n",
       "3  2016-03-17 16:54:04              GOLF_4_1_4__3TÜRER  privat    Angebot   \n",
       "4  2016-03-31 17:25:20  Skoda_Fabia_1.4_TDI_PD_Classic  privat    Angebot   \n",
       "\n",
       "   price ab_test vehicle_type  registration_year    gearbox  power_ps  model  \\\n",
       "0    480    test          NaN               1993    manuell         0   golf   \n",
       "1  18300    test        coupe               2011    manuell       190    NaN   \n",
       "2   9800    test          suv               2004  automatik       163  grand   \n",
       "3   1500    test   kleinwagen               2001    manuell        75   golf   \n",
       "4   3600    test   kleinwagen               2008    manuell        69  fabia   \n",
       "\n",
       "   kilometers  registration_month fuel_type       brand unrepaired_damage  \\\n",
       "0      150000                   0    benzin  volkswagen               NaN   \n",
       "1      125000                   5    diesel        audi                ja   \n",
       "2      125000                   8    diesel        jeep               NaN   \n",
       "3      150000                   6    benzin  volkswagen              nein   \n",
       "4       90000                   7    diesel       skoda              nein   \n",
       "\n",
       "            ad_created  pictures_num  postal_code            last_seen  \n",
       "0  2016-03-24 00:00:00             0        70435  2016-04-07 03:16:57  \n",
       "1  2016-03-24 00:00:00             0        66954  2016-04-07 01:46:50  \n",
       "2  2016-03-14 00:00:00             0        90480  2016-04-05 12:47:46  \n",
       "3  2016-03-17 00:00:00             0        91074  2016-03-17 17:40:17  \n",
       "4  2016-03-31 00:00:00             0        60437  2016-04-06 10:17:21  "
      ]
     },
     "execution_count": 6,
     "metadata": {},
     "output_type": "execute_result"
    }
   ],
   "source": [
    "autos.head()"
   ]
  },
  {
   "cell_type": "markdown",
   "id": "a067e691",
   "metadata": {},
   "source": [
    "Lets's investigate the data"
   ]
  },
  {
   "cell_type": "code",
   "execution_count": 7,
   "id": "09034a72",
   "metadata": {},
   "outputs": [
    {
     "data": {
      "text/html": [
       "<div>\n",
       "<style scoped>\n",
       "    .dataframe tbody tr th:only-of-type {\n",
       "        vertical-align: middle;\n",
       "    }\n",
       "\n",
       "    .dataframe tbody tr th {\n",
       "        vertical-align: top;\n",
       "    }\n",
       "\n",
       "    .dataframe thead th {\n",
       "        text-align: right;\n",
       "    }\n",
       "</style>\n",
       "<table border=\"1\" class=\"dataframe\">\n",
       "  <thead>\n",
       "    <tr style=\"text-align: right;\">\n",
       "      <th></th>\n",
       "      <th>crawled_date</th>\n",
       "      <th>name</th>\n",
       "      <th>seller</th>\n",
       "      <th>offer_type</th>\n",
       "      <th>price</th>\n",
       "      <th>ab_test</th>\n",
       "      <th>vehicle_type</th>\n",
       "      <th>registration_year</th>\n",
       "      <th>gearbox</th>\n",
       "      <th>power_ps</th>\n",
       "      <th>model</th>\n",
       "      <th>kilometers</th>\n",
       "      <th>registration_month</th>\n",
       "      <th>fuel_type</th>\n",
       "      <th>brand</th>\n",
       "      <th>unrepaired_damage</th>\n",
       "      <th>ad_created</th>\n",
       "      <th>pictures_num</th>\n",
       "      <th>postal_code</th>\n",
       "      <th>last_seen</th>\n",
       "    </tr>\n",
       "  </thead>\n",
       "  <tbody>\n",
       "    <tr>\n",
       "      <th>count</th>\n",
       "      <td>371528</td>\n",
       "      <td>371528</td>\n",
       "      <td>371528</td>\n",
       "      <td>371528</td>\n",
       "      <td>3.715280e+05</td>\n",
       "      <td>371528</td>\n",
       "      <td>333659</td>\n",
       "      <td>371528.000000</td>\n",
       "      <td>351319</td>\n",
       "      <td>371528.000000</td>\n",
       "      <td>351044</td>\n",
       "      <td>371528.000000</td>\n",
       "      <td>371528.000000</td>\n",
       "      <td>338142</td>\n",
       "      <td>371528</td>\n",
       "      <td>299468</td>\n",
       "      <td>371528</td>\n",
       "      <td>371528.0</td>\n",
       "      <td>371528.00000</td>\n",
       "      <td>371528</td>\n",
       "    </tr>\n",
       "    <tr>\n",
       "      <th>unique</th>\n",
       "      <td>280500</td>\n",
       "      <td>233531</td>\n",
       "      <td>2</td>\n",
       "      <td>2</td>\n",
       "      <td>NaN</td>\n",
       "      <td>2</td>\n",
       "      <td>8</td>\n",
       "      <td>NaN</td>\n",
       "      <td>2</td>\n",
       "      <td>NaN</td>\n",
       "      <td>251</td>\n",
       "      <td>NaN</td>\n",
       "      <td>NaN</td>\n",
       "      <td>7</td>\n",
       "      <td>40</td>\n",
       "      <td>2</td>\n",
       "      <td>114</td>\n",
       "      <td>NaN</td>\n",
       "      <td>NaN</td>\n",
       "      <td>182806</td>\n",
       "    </tr>\n",
       "    <tr>\n",
       "      <th>top</th>\n",
       "      <td>2016-03-24 14:49:47</td>\n",
       "      <td>Ford_Fiesta</td>\n",
       "      <td>privat</td>\n",
       "      <td>Angebot</td>\n",
       "      <td>NaN</td>\n",
       "      <td>test</td>\n",
       "      <td>limousine</td>\n",
       "      <td>NaN</td>\n",
       "      <td>manuell</td>\n",
       "      <td>NaN</td>\n",
       "      <td>golf</td>\n",
       "      <td>NaN</td>\n",
       "      <td>NaN</td>\n",
       "      <td>benzin</td>\n",
       "      <td>volkswagen</td>\n",
       "      <td>nein</td>\n",
       "      <td>2016-04-03 00:00:00</td>\n",
       "      <td>NaN</td>\n",
       "      <td>NaN</td>\n",
       "      <td>2016-04-07 06:45:59</td>\n",
       "    </tr>\n",
       "    <tr>\n",
       "      <th>freq</th>\n",
       "      <td>7</td>\n",
       "      <td>657</td>\n",
       "      <td>371525</td>\n",
       "      <td>371516</td>\n",
       "      <td>NaN</td>\n",
       "      <td>192585</td>\n",
       "      <td>95894</td>\n",
       "      <td>NaN</td>\n",
       "      <td>274214</td>\n",
       "      <td>NaN</td>\n",
       "      <td>30070</td>\n",
       "      <td>NaN</td>\n",
       "      <td>NaN</td>\n",
       "      <td>223857</td>\n",
       "      <td>79640</td>\n",
       "      <td>263182</td>\n",
       "      <td>14450</td>\n",
       "      <td>NaN</td>\n",
       "      <td>NaN</td>\n",
       "      <td>17</td>\n",
       "    </tr>\n",
       "    <tr>\n",
       "      <th>mean</th>\n",
       "      <td>NaN</td>\n",
       "      <td>NaN</td>\n",
       "      <td>NaN</td>\n",
       "      <td>NaN</td>\n",
       "      <td>1.729514e+04</td>\n",
       "      <td>NaN</td>\n",
       "      <td>NaN</td>\n",
       "      <td>2004.577997</td>\n",
       "      <td>NaN</td>\n",
       "      <td>115.549477</td>\n",
       "      <td>NaN</td>\n",
       "      <td>125618.688228</td>\n",
       "      <td>5.734445</td>\n",
       "      <td>NaN</td>\n",
       "      <td>NaN</td>\n",
       "      <td>NaN</td>\n",
       "      <td>NaN</td>\n",
       "      <td>0.0</td>\n",
       "      <td>50820.66764</td>\n",
       "      <td>NaN</td>\n",
       "    </tr>\n",
       "    <tr>\n",
       "      <th>std</th>\n",
       "      <td>NaN</td>\n",
       "      <td>NaN</td>\n",
       "      <td>NaN</td>\n",
       "      <td>NaN</td>\n",
       "      <td>3.587954e+06</td>\n",
       "      <td>NaN</td>\n",
       "      <td>NaN</td>\n",
       "      <td>92.866598</td>\n",
       "      <td>NaN</td>\n",
       "      <td>192.139578</td>\n",
       "      <td>NaN</td>\n",
       "      <td>40112.337051</td>\n",
       "      <td>3.712412</td>\n",
       "      <td>NaN</td>\n",
       "      <td>NaN</td>\n",
       "      <td>NaN</td>\n",
       "      <td>NaN</td>\n",
       "      <td>0.0</td>\n",
       "      <td>25799.08247</td>\n",
       "      <td>NaN</td>\n",
       "    </tr>\n",
       "    <tr>\n",
       "      <th>min</th>\n",
       "      <td>NaN</td>\n",
       "      <td>NaN</td>\n",
       "      <td>NaN</td>\n",
       "      <td>NaN</td>\n",
       "      <td>0.000000e+00</td>\n",
       "      <td>NaN</td>\n",
       "      <td>NaN</td>\n",
       "      <td>1000.000000</td>\n",
       "      <td>NaN</td>\n",
       "      <td>0.000000</td>\n",
       "      <td>NaN</td>\n",
       "      <td>5000.000000</td>\n",
       "      <td>0.000000</td>\n",
       "      <td>NaN</td>\n",
       "      <td>NaN</td>\n",
       "      <td>NaN</td>\n",
       "      <td>NaN</td>\n",
       "      <td>0.0</td>\n",
       "      <td>1067.00000</td>\n",
       "      <td>NaN</td>\n",
       "    </tr>\n",
       "    <tr>\n",
       "      <th>25%</th>\n",
       "      <td>NaN</td>\n",
       "      <td>NaN</td>\n",
       "      <td>NaN</td>\n",
       "      <td>NaN</td>\n",
       "      <td>1.150000e+03</td>\n",
       "      <td>NaN</td>\n",
       "      <td>NaN</td>\n",
       "      <td>1999.000000</td>\n",
       "      <td>NaN</td>\n",
       "      <td>70.000000</td>\n",
       "      <td>NaN</td>\n",
       "      <td>125000.000000</td>\n",
       "      <td>3.000000</td>\n",
       "      <td>NaN</td>\n",
       "      <td>NaN</td>\n",
       "      <td>NaN</td>\n",
       "      <td>NaN</td>\n",
       "      <td>0.0</td>\n",
       "      <td>30459.00000</td>\n",
       "      <td>NaN</td>\n",
       "    </tr>\n",
       "    <tr>\n",
       "      <th>50%</th>\n",
       "      <td>NaN</td>\n",
       "      <td>NaN</td>\n",
       "      <td>NaN</td>\n",
       "      <td>NaN</td>\n",
       "      <td>2.950000e+03</td>\n",
       "      <td>NaN</td>\n",
       "      <td>NaN</td>\n",
       "      <td>2003.000000</td>\n",
       "      <td>NaN</td>\n",
       "      <td>105.000000</td>\n",
       "      <td>NaN</td>\n",
       "      <td>150000.000000</td>\n",
       "      <td>6.000000</td>\n",
       "      <td>NaN</td>\n",
       "      <td>NaN</td>\n",
       "      <td>NaN</td>\n",
       "      <td>NaN</td>\n",
       "      <td>0.0</td>\n",
       "      <td>49610.00000</td>\n",
       "      <td>NaN</td>\n",
       "    </tr>\n",
       "    <tr>\n",
       "      <th>75%</th>\n",
       "      <td>NaN</td>\n",
       "      <td>NaN</td>\n",
       "      <td>NaN</td>\n",
       "      <td>NaN</td>\n",
       "      <td>7.200000e+03</td>\n",
       "      <td>NaN</td>\n",
       "      <td>NaN</td>\n",
       "      <td>2008.000000</td>\n",
       "      <td>NaN</td>\n",
       "      <td>150.000000</td>\n",
       "      <td>NaN</td>\n",
       "      <td>150000.000000</td>\n",
       "      <td>9.000000</td>\n",
       "      <td>NaN</td>\n",
       "      <td>NaN</td>\n",
       "      <td>NaN</td>\n",
       "      <td>NaN</td>\n",
       "      <td>0.0</td>\n",
       "      <td>71546.00000</td>\n",
       "      <td>NaN</td>\n",
       "    </tr>\n",
       "    <tr>\n",
       "      <th>max</th>\n",
       "      <td>NaN</td>\n",
       "      <td>NaN</td>\n",
       "      <td>NaN</td>\n",
       "      <td>NaN</td>\n",
       "      <td>2.147484e+09</td>\n",
       "      <td>NaN</td>\n",
       "      <td>NaN</td>\n",
       "      <td>9999.000000</td>\n",
       "      <td>NaN</td>\n",
       "      <td>20000.000000</td>\n",
       "      <td>NaN</td>\n",
       "      <td>150000.000000</td>\n",
       "      <td>12.000000</td>\n",
       "      <td>NaN</td>\n",
       "      <td>NaN</td>\n",
       "      <td>NaN</td>\n",
       "      <td>NaN</td>\n",
       "      <td>0.0</td>\n",
       "      <td>99998.00000</td>\n",
       "      <td>NaN</td>\n",
       "    </tr>\n",
       "  </tbody>\n",
       "</table>\n",
       "</div>"
      ],
      "text/plain": [
       "               crawled_date         name  seller offer_type         price  \\\n",
       "count                371528       371528  371528     371528  3.715280e+05   \n",
       "unique               280500       233531       2          2           NaN   \n",
       "top     2016-03-24 14:49:47  Ford_Fiesta  privat    Angebot           NaN   \n",
       "freq                      7          657  371525     371516           NaN   \n",
       "mean                    NaN          NaN     NaN        NaN  1.729514e+04   \n",
       "std                     NaN          NaN     NaN        NaN  3.587954e+06   \n",
       "min                     NaN          NaN     NaN        NaN  0.000000e+00   \n",
       "25%                     NaN          NaN     NaN        NaN  1.150000e+03   \n",
       "50%                     NaN          NaN     NaN        NaN  2.950000e+03   \n",
       "75%                     NaN          NaN     NaN        NaN  7.200000e+03   \n",
       "max                     NaN          NaN     NaN        NaN  2.147484e+09   \n",
       "\n",
       "       ab_test vehicle_type  registration_year  gearbox       power_ps  \\\n",
       "count   371528       333659      371528.000000   351319  371528.000000   \n",
       "unique       2            8                NaN        2            NaN   \n",
       "top       test    limousine                NaN  manuell            NaN   \n",
       "freq    192585        95894                NaN   274214            NaN   \n",
       "mean       NaN          NaN        2004.577997      NaN     115.549477   \n",
       "std        NaN          NaN          92.866598      NaN     192.139578   \n",
       "min        NaN          NaN        1000.000000      NaN       0.000000   \n",
       "25%        NaN          NaN        1999.000000      NaN      70.000000   \n",
       "50%        NaN          NaN        2003.000000      NaN     105.000000   \n",
       "75%        NaN          NaN        2008.000000      NaN     150.000000   \n",
       "max        NaN          NaN        9999.000000      NaN   20000.000000   \n",
       "\n",
       "         model     kilometers  registration_month fuel_type       brand  \\\n",
       "count   351044  371528.000000       371528.000000    338142      371528   \n",
       "unique     251            NaN                 NaN         7          40   \n",
       "top       golf            NaN                 NaN    benzin  volkswagen   \n",
       "freq     30070            NaN                 NaN    223857       79640   \n",
       "mean       NaN  125618.688228            5.734445       NaN         NaN   \n",
       "std        NaN   40112.337051            3.712412       NaN         NaN   \n",
       "min        NaN    5000.000000            0.000000       NaN         NaN   \n",
       "25%        NaN  125000.000000            3.000000       NaN         NaN   \n",
       "50%        NaN  150000.000000            6.000000       NaN         NaN   \n",
       "75%        NaN  150000.000000            9.000000       NaN         NaN   \n",
       "max        NaN  150000.000000           12.000000       NaN         NaN   \n",
       "\n",
       "       unrepaired_damage           ad_created  pictures_num   postal_code  \\\n",
       "count             299468               371528      371528.0  371528.00000   \n",
       "unique                 2                  114           NaN           NaN   \n",
       "top                 nein  2016-04-03 00:00:00           NaN           NaN   \n",
       "freq              263182                14450           NaN           NaN   \n",
       "mean                 NaN                  NaN           0.0   50820.66764   \n",
       "std                  NaN                  NaN           0.0   25799.08247   \n",
       "min                  NaN                  NaN           0.0    1067.00000   \n",
       "25%                  NaN                  NaN           0.0   30459.00000   \n",
       "50%                  NaN                  NaN           0.0   49610.00000   \n",
       "75%                  NaN                  NaN           0.0   71546.00000   \n",
       "max                  NaN                  NaN           0.0   99998.00000   \n",
       "\n",
       "                  last_seen  \n",
       "count                371528  \n",
       "unique               182806  \n",
       "top     2016-04-07 06:45:59  \n",
       "freq                     17  \n",
       "mean                    NaN  \n",
       "std                     NaN  \n",
       "min                     NaN  \n",
       "25%                     NaN  \n",
       "50%                     NaN  \n",
       "75%                     NaN  \n",
       "max                     NaN  "
      ]
     },
     "execution_count": 7,
     "metadata": {},
     "output_type": "execute_result"
    }
   ],
   "source": [
    "autos.describe(include='all')"
   ]
  },
  {
   "cell_type": "code",
   "execution_count": 8,
   "id": "8a844287",
   "metadata": {},
   "outputs": [
    {
     "data": {
      "text/plain": [
       "crawled_date          object\n",
       "name                  object\n",
       "seller                object\n",
       "offer_type            object\n",
       "price                  int64\n",
       "ab_test               object\n",
       "vehicle_type          object\n",
       "registration_year      int64\n",
       "gearbox               object\n",
       "power_ps               int64\n",
       "model                 object\n",
       "kilometers             int64\n",
       "registration_month     int64\n",
       "fuel_type             object\n",
       "brand                 object\n",
       "unrepaired_damage     object\n",
       "ad_created            object\n",
       "pictures_num           int64\n",
       "postal_code            int64\n",
       "last_seen             object\n",
       "dtype: object"
      ]
     },
     "execution_count": 8,
     "metadata": {},
     "output_type": "execute_result"
    }
   ],
   "source": [
    "autos.dtypes"
   ]
  },
  {
   "cell_type": "code",
   "execution_count": 9,
   "id": "6d0dd398",
   "metadata": {},
   "outputs": [
    {
     "data": {
      "text/plain": [
       "pictures_num\n",
       "0    371528\n",
       "Name: count, dtype: int64"
      ]
     },
     "execution_count": 9,
     "metadata": {},
     "output_type": "execute_result"
    }
   ],
   "source": [
    "autos['pictures_num'].value_counts()"
   ]
  },
  {
   "cell_type": "code",
   "execution_count": 10,
   "id": "8a0d9d72",
   "metadata": {},
   "outputs": [
    {
     "data": {
      "text/plain": [
       "seller\n",
       "privat        371525\n",
       "gewerblich         3\n",
       "Name: count, dtype: int64"
      ]
     },
     "execution_count": 10,
     "metadata": {},
     "output_type": "execute_result"
    }
   ],
   "source": [
    "autos['seller'].value_counts()"
   ]
  },
  {
   "cell_type": "markdown",
   "id": "1d0d4e19",
   "metadata": {},
   "source": [
    "After investigation we see that most values are written in german not english so that needs cleaning, also all rows in the `pictures_num` column has all values of 0 so we will remove the whole column and `seller` column will be removed too as almost the whole column has the same value."
   ]
  },
  {
   "cell_type": "code",
   "execution_count": 11,
   "id": "73c4b829",
   "metadata": {},
   "outputs": [],
   "source": [
    "# removing non useful columns\n",
    "autos = autos.drop('pictures_num', axis=1)\n",
    "autos = autos.drop('seller', axis=1)"
   ]
  },
  {
   "cell_type": "code",
   "execution_count": 12,
   "id": "fcd1644f",
   "metadata": {},
   "outputs": [
    {
     "data": {
      "text/plain": [
       "crawled_date          object\n",
       "name                  object\n",
       "offer_type            object\n",
       "price                  int64\n",
       "ab_test               object\n",
       "vehicle_type          object\n",
       "registration_year      int64\n",
       "gearbox               object\n",
       "power_ps               int64\n",
       "model                 object\n",
       "kilometers             int64\n",
       "registration_month     int64\n",
       "fuel_type             object\n",
       "brand                 object\n",
       "unrepaired_damage     object\n",
       "ad_created            object\n",
       "postal_code            int64\n",
       "last_seen             object\n",
       "dtype: object"
      ]
     },
     "execution_count": 12,
     "metadata": {},
     "output_type": "execute_result"
    }
   ],
   "source": [
    "autos.dtypes"
   ]
  },
  {
   "cell_type": "code",
   "execution_count": 13,
   "id": "d7f577ba",
   "metadata": {},
   "outputs": [
    {
     "data": {
      "text/plain": [
       "offer_type\n",
       "Angebot    371516\n",
       "Gesuch         12\n",
       "Name: count, dtype: int64"
      ]
     },
     "execution_count": 13,
     "metadata": {},
     "output_type": "execute_result"
    }
   ],
   "source": [
    "autos['offer_type'].value_counts()"
   ]
  },
  {
   "cell_type": "code",
   "execution_count": 14,
   "id": "7b229b0e",
   "metadata": {},
   "outputs": [
    {
     "data": {
      "text/plain": [
       "vehicle_type\n",
       "limousine     95894\n",
       "kleinwagen    80023\n",
       "kombi         67564\n",
       "bus           30201\n",
       "cabrio        22898\n",
       "coupe         19015\n",
       "suv           14707\n",
       "andere         3357\n",
       "Name: count, dtype: int64"
      ]
     },
     "execution_count": 14,
     "metadata": {},
     "output_type": "execute_result"
    }
   ],
   "source": [
    "autos['vehicle_type'].value_counts()"
   ]
  },
  {
   "cell_type": "code",
   "execution_count": 15,
   "id": "50bf49b6",
   "metadata": {},
   "outputs": [
    {
     "data": {
      "text/plain": [
       "gearbox\n",
       "manuell      274214\n",
       "automatik     77105\n",
       "Name: count, dtype: int64"
      ]
     },
     "execution_count": 15,
     "metadata": {},
     "output_type": "execute_result"
    }
   ],
   "source": [
    "autos['gearbox'].value_counts()"
   ]
  },
  {
   "cell_type": "code",
   "execution_count": 16,
   "id": "28773ee1",
   "metadata": {},
   "outputs": [
    {
     "data": {
      "text/plain": [
       "fuel_type\n",
       "benzin     223857\n",
       "diesel     107746\n",
       "lpg          5378\n",
       "cng           571\n",
       "hybrid        278\n",
       "andere        208\n",
       "elektro       104\n",
       "Name: count, dtype: int64"
      ]
     },
     "execution_count": 16,
     "metadata": {},
     "output_type": "execute_result"
    }
   ],
   "source": [
    "autos['fuel_type'].value_counts()"
   ]
  },
  {
   "cell_type": "code",
   "execution_count": 17,
   "id": "37125460",
   "metadata": {},
   "outputs": [
    {
     "data": {
      "text/plain": [
       "unrepaired_damage\n",
       "nein    263182\n",
       "ja       36286\n",
       "Name: count, dtype: int64"
      ]
     },
     "execution_count": 17,
     "metadata": {},
     "output_type": "execute_result"
    }
   ],
   "source": [
    "autos['unrepaired_damage'].value_counts()"
   ]
  },
  {
   "cell_type": "code",
   "execution_count": 18,
   "id": "581b96f9",
   "metadata": {},
   "outputs": [],
   "source": [
    "cleaning_dict1 = {'Angebot':'offer', 'Gesuch':'request'}\n",
    "\n",
    "cleaning_dict2 = {'limousine':'limousine',\n",
    "                'kleinwagen':'subcompact',\n",
    "                'kombi':'van',\n",
    "                'bus':'bus',\n",
    "                'cabrio':'convertible',\n",
    "                'coupe':'coupe',\n",
    "                'suv':'suv',\n",
    "                'andere':'others'}\n",
    "\n",
    "cleaning_dict3 = {'manuell':'manual', 'automatik':'automatic'}\n",
    "\n",
    "cleaning_dict4 = {'benzin':'petrol',\n",
    "                'diesel':'diesel',\n",
    "                'lpg':'lpg',\n",
    "                'cng':'cng',\n",
    "                'hybrid':'hybrid',\n",
    "                'andere':'others',\n",
    "                'elektro':'electricity'}\n",
    "\n",
    "cleaning_dict5 = {'nein':'no', 'ja':'yes'}\n",
    "\n",
    "autos['offer_type'] = autos['offer_type'].map(cleaning_dict1)\n",
    "autos['vehicle_type'] = autos['vehicle_type'].map(cleaning_dict2)\n",
    "autos['gearbox'] = autos['gearbox'].map(cleaning_dict3)\n",
    "autos['fuel_type'] = autos['fuel_type'].map(cleaning_dict4)\n",
    "autos['unrepaired_damage'] = autos['unrepaired_damage'].map(cleaning_dict5)"
   ]
  },
  {
   "cell_type": "code",
   "execution_count": 19,
   "id": "cb427623",
   "metadata": {},
   "outputs": [
    {
     "data": {
      "text/html": [
       "<div>\n",
       "<style scoped>\n",
       "    .dataframe tbody tr th:only-of-type {\n",
       "        vertical-align: middle;\n",
       "    }\n",
       "\n",
       "    .dataframe tbody tr th {\n",
       "        vertical-align: top;\n",
       "    }\n",
       "\n",
       "    .dataframe thead th {\n",
       "        text-align: right;\n",
       "    }\n",
       "</style>\n",
       "<table border=\"1\" class=\"dataframe\">\n",
       "  <thead>\n",
       "    <tr style=\"text-align: right;\">\n",
       "      <th></th>\n",
       "      <th>crawled_date</th>\n",
       "      <th>name</th>\n",
       "      <th>offer_type</th>\n",
       "      <th>price</th>\n",
       "      <th>ab_test</th>\n",
       "      <th>vehicle_type</th>\n",
       "      <th>registration_year</th>\n",
       "      <th>gearbox</th>\n",
       "      <th>power_ps</th>\n",
       "      <th>model</th>\n",
       "      <th>kilometers</th>\n",
       "      <th>registration_month</th>\n",
       "      <th>fuel_type</th>\n",
       "      <th>brand</th>\n",
       "      <th>unrepaired_damage</th>\n",
       "      <th>ad_created</th>\n",
       "      <th>postal_code</th>\n",
       "      <th>last_seen</th>\n",
       "    </tr>\n",
       "  </thead>\n",
       "  <tbody>\n",
       "    <tr>\n",
       "      <th>0</th>\n",
       "      <td>2016-03-24 11:52:17</td>\n",
       "      <td>Golf_3_1.6</td>\n",
       "      <td>offer</td>\n",
       "      <td>480</td>\n",
       "      <td>test</td>\n",
       "      <td>NaN</td>\n",
       "      <td>1993</td>\n",
       "      <td>manual</td>\n",
       "      <td>0</td>\n",
       "      <td>golf</td>\n",
       "      <td>150000</td>\n",
       "      <td>0</td>\n",
       "      <td>petrol</td>\n",
       "      <td>volkswagen</td>\n",
       "      <td>NaN</td>\n",
       "      <td>2016-03-24 00:00:00</td>\n",
       "      <td>70435</td>\n",
       "      <td>2016-04-07 03:16:57</td>\n",
       "    </tr>\n",
       "    <tr>\n",
       "      <th>1</th>\n",
       "      <td>2016-03-24 10:58:45</td>\n",
       "      <td>A5_Sportback_2.7_Tdi</td>\n",
       "      <td>offer</td>\n",
       "      <td>18300</td>\n",
       "      <td>test</td>\n",
       "      <td>coupe</td>\n",
       "      <td>2011</td>\n",
       "      <td>manual</td>\n",
       "      <td>190</td>\n",
       "      <td>NaN</td>\n",
       "      <td>125000</td>\n",
       "      <td>5</td>\n",
       "      <td>diesel</td>\n",
       "      <td>audi</td>\n",
       "      <td>yes</td>\n",
       "      <td>2016-03-24 00:00:00</td>\n",
       "      <td>66954</td>\n",
       "      <td>2016-04-07 01:46:50</td>\n",
       "    </tr>\n",
       "    <tr>\n",
       "      <th>2</th>\n",
       "      <td>2016-03-14 12:52:21</td>\n",
       "      <td>Jeep_Grand_Cherokee_\"Overland\"</td>\n",
       "      <td>offer</td>\n",
       "      <td>9800</td>\n",
       "      <td>test</td>\n",
       "      <td>suv</td>\n",
       "      <td>2004</td>\n",
       "      <td>automatic</td>\n",
       "      <td>163</td>\n",
       "      <td>grand</td>\n",
       "      <td>125000</td>\n",
       "      <td>8</td>\n",
       "      <td>diesel</td>\n",
       "      <td>jeep</td>\n",
       "      <td>NaN</td>\n",
       "      <td>2016-03-14 00:00:00</td>\n",
       "      <td>90480</td>\n",
       "      <td>2016-04-05 12:47:46</td>\n",
       "    </tr>\n",
       "    <tr>\n",
       "      <th>3</th>\n",
       "      <td>2016-03-17 16:54:04</td>\n",
       "      <td>GOLF_4_1_4__3TÜRER</td>\n",
       "      <td>offer</td>\n",
       "      <td>1500</td>\n",
       "      <td>test</td>\n",
       "      <td>subcompact</td>\n",
       "      <td>2001</td>\n",
       "      <td>manual</td>\n",
       "      <td>75</td>\n",
       "      <td>golf</td>\n",
       "      <td>150000</td>\n",
       "      <td>6</td>\n",
       "      <td>petrol</td>\n",
       "      <td>volkswagen</td>\n",
       "      <td>no</td>\n",
       "      <td>2016-03-17 00:00:00</td>\n",
       "      <td>91074</td>\n",
       "      <td>2016-03-17 17:40:17</td>\n",
       "    </tr>\n",
       "    <tr>\n",
       "      <th>4</th>\n",
       "      <td>2016-03-31 17:25:20</td>\n",
       "      <td>Skoda_Fabia_1.4_TDI_PD_Classic</td>\n",
       "      <td>offer</td>\n",
       "      <td>3600</td>\n",
       "      <td>test</td>\n",
       "      <td>subcompact</td>\n",
       "      <td>2008</td>\n",
       "      <td>manual</td>\n",
       "      <td>69</td>\n",
       "      <td>fabia</td>\n",
       "      <td>90000</td>\n",
       "      <td>7</td>\n",
       "      <td>diesel</td>\n",
       "      <td>skoda</td>\n",
       "      <td>no</td>\n",
       "      <td>2016-03-31 00:00:00</td>\n",
       "      <td>60437</td>\n",
       "      <td>2016-04-06 10:17:21</td>\n",
       "    </tr>\n",
       "    <tr>\n",
       "      <th>...</th>\n",
       "      <td>...</td>\n",
       "      <td>...</td>\n",
       "      <td>...</td>\n",
       "      <td>...</td>\n",
       "      <td>...</td>\n",
       "      <td>...</td>\n",
       "      <td>...</td>\n",
       "      <td>...</td>\n",
       "      <td>...</td>\n",
       "      <td>...</td>\n",
       "      <td>...</td>\n",
       "      <td>...</td>\n",
       "      <td>...</td>\n",
       "      <td>...</td>\n",
       "      <td>...</td>\n",
       "      <td>...</td>\n",
       "      <td>...</td>\n",
       "      <td>...</td>\n",
       "    </tr>\n",
       "    <tr>\n",
       "      <th>371523</th>\n",
       "      <td>2016-03-14 17:48:27</td>\n",
       "      <td>Suche_t4___vito_ab_6_sitze</td>\n",
       "      <td>offer</td>\n",
       "      <td>2200</td>\n",
       "      <td>test</td>\n",
       "      <td>NaN</td>\n",
       "      <td>2005</td>\n",
       "      <td>NaN</td>\n",
       "      <td>0</td>\n",
       "      <td>NaN</td>\n",
       "      <td>20000</td>\n",
       "      <td>1</td>\n",
       "      <td>NaN</td>\n",
       "      <td>sonstige_autos</td>\n",
       "      <td>NaN</td>\n",
       "      <td>2016-03-14 00:00:00</td>\n",
       "      <td>39576</td>\n",
       "      <td>2016-04-06 00:46:52</td>\n",
       "    </tr>\n",
       "    <tr>\n",
       "      <th>371524</th>\n",
       "      <td>2016-03-05 19:56:21</td>\n",
       "      <td>Smart_smart_leistungssteigerung_100ps</td>\n",
       "      <td>offer</td>\n",
       "      <td>1199</td>\n",
       "      <td>test</td>\n",
       "      <td>convertible</td>\n",
       "      <td>2000</td>\n",
       "      <td>automatic</td>\n",
       "      <td>101</td>\n",
       "      <td>fortwo</td>\n",
       "      <td>125000</td>\n",
       "      <td>3</td>\n",
       "      <td>petrol</td>\n",
       "      <td>smart</td>\n",
       "      <td>no</td>\n",
       "      <td>2016-03-05 00:00:00</td>\n",
       "      <td>26135</td>\n",
       "      <td>2016-03-11 18:17:12</td>\n",
       "    </tr>\n",
       "    <tr>\n",
       "      <th>371525</th>\n",
       "      <td>2016-03-19 18:57:12</td>\n",
       "      <td>Volkswagen_Multivan_T4_TDI_7DC_UY2</td>\n",
       "      <td>offer</td>\n",
       "      <td>9200</td>\n",
       "      <td>test</td>\n",
       "      <td>bus</td>\n",
       "      <td>1996</td>\n",
       "      <td>manual</td>\n",
       "      <td>102</td>\n",
       "      <td>transporter</td>\n",
       "      <td>150000</td>\n",
       "      <td>3</td>\n",
       "      <td>diesel</td>\n",
       "      <td>volkswagen</td>\n",
       "      <td>no</td>\n",
       "      <td>2016-03-19 00:00:00</td>\n",
       "      <td>87439</td>\n",
       "      <td>2016-04-07 07:15:26</td>\n",
       "    </tr>\n",
       "    <tr>\n",
       "      <th>371526</th>\n",
       "      <td>2016-03-20 19:41:08</td>\n",
       "      <td>VW_Golf_Kombi_1_9l_TDI</td>\n",
       "      <td>offer</td>\n",
       "      <td>3400</td>\n",
       "      <td>test</td>\n",
       "      <td>van</td>\n",
       "      <td>2002</td>\n",
       "      <td>manual</td>\n",
       "      <td>100</td>\n",
       "      <td>golf</td>\n",
       "      <td>150000</td>\n",
       "      <td>6</td>\n",
       "      <td>diesel</td>\n",
       "      <td>volkswagen</td>\n",
       "      <td>NaN</td>\n",
       "      <td>2016-03-20 00:00:00</td>\n",
       "      <td>40764</td>\n",
       "      <td>2016-03-24 12:45:21</td>\n",
       "    </tr>\n",
       "    <tr>\n",
       "      <th>371527</th>\n",
       "      <td>2016-03-07 19:39:19</td>\n",
       "      <td>BMW_M135i_vollausgestattet_NP_52.720____Euro</td>\n",
       "      <td>offer</td>\n",
       "      <td>28990</td>\n",
       "      <td>control</td>\n",
       "      <td>limousine</td>\n",
       "      <td>2013</td>\n",
       "      <td>manual</td>\n",
       "      <td>320</td>\n",
       "      <td>m_reihe</td>\n",
       "      <td>50000</td>\n",
       "      <td>8</td>\n",
       "      <td>petrol</td>\n",
       "      <td>bmw</td>\n",
       "      <td>no</td>\n",
       "      <td>2016-03-07 00:00:00</td>\n",
       "      <td>73326</td>\n",
       "      <td>2016-03-22 03:17:10</td>\n",
       "    </tr>\n",
       "  </tbody>\n",
       "</table>\n",
       "<p>371528 rows × 18 columns</p>\n",
       "</div>"
      ],
      "text/plain": [
       "               crawled_date                                          name  \\\n",
       "0       2016-03-24 11:52:17                                    Golf_3_1.6   \n",
       "1       2016-03-24 10:58:45                          A5_Sportback_2.7_Tdi   \n",
       "2       2016-03-14 12:52:21                Jeep_Grand_Cherokee_\"Overland\"   \n",
       "3       2016-03-17 16:54:04                            GOLF_4_1_4__3TÜRER   \n",
       "4       2016-03-31 17:25:20                Skoda_Fabia_1.4_TDI_PD_Classic   \n",
       "...                     ...                                           ...   \n",
       "371523  2016-03-14 17:48:27                    Suche_t4___vito_ab_6_sitze   \n",
       "371524  2016-03-05 19:56:21         Smart_smart_leistungssteigerung_100ps   \n",
       "371525  2016-03-19 18:57:12            Volkswagen_Multivan_T4_TDI_7DC_UY2   \n",
       "371526  2016-03-20 19:41:08                        VW_Golf_Kombi_1_9l_TDI   \n",
       "371527  2016-03-07 19:39:19  BMW_M135i_vollausgestattet_NP_52.720____Euro   \n",
       "\n",
       "       offer_type  price  ab_test vehicle_type  registration_year    gearbox  \\\n",
       "0           offer    480     test          NaN               1993     manual   \n",
       "1           offer  18300     test        coupe               2011     manual   \n",
       "2           offer   9800     test          suv               2004  automatic   \n",
       "3           offer   1500     test   subcompact               2001     manual   \n",
       "4           offer   3600     test   subcompact               2008     manual   \n",
       "...           ...    ...      ...          ...                ...        ...   \n",
       "371523      offer   2200     test          NaN               2005        NaN   \n",
       "371524      offer   1199     test  convertible               2000  automatic   \n",
       "371525      offer   9200     test          bus               1996     manual   \n",
       "371526      offer   3400     test          van               2002     manual   \n",
       "371527      offer  28990  control    limousine               2013     manual   \n",
       "\n",
       "        power_ps        model  kilometers  registration_month fuel_type  \\\n",
       "0              0         golf      150000                   0    petrol   \n",
       "1            190          NaN      125000                   5    diesel   \n",
       "2            163        grand      125000                   8    diesel   \n",
       "3             75         golf      150000                   6    petrol   \n",
       "4             69        fabia       90000                   7    diesel   \n",
       "...          ...          ...         ...                 ...       ...   \n",
       "371523         0          NaN       20000                   1       NaN   \n",
       "371524       101       fortwo      125000                   3    petrol   \n",
       "371525       102  transporter      150000                   3    diesel   \n",
       "371526       100         golf      150000                   6    diesel   \n",
       "371527       320      m_reihe       50000                   8    petrol   \n",
       "\n",
       "                 brand unrepaired_damage           ad_created  postal_code  \\\n",
       "0           volkswagen               NaN  2016-03-24 00:00:00        70435   \n",
       "1                 audi               yes  2016-03-24 00:00:00        66954   \n",
       "2                 jeep               NaN  2016-03-14 00:00:00        90480   \n",
       "3           volkswagen                no  2016-03-17 00:00:00        91074   \n",
       "4                skoda                no  2016-03-31 00:00:00        60437   \n",
       "...                ...               ...                  ...          ...   \n",
       "371523  sonstige_autos               NaN  2016-03-14 00:00:00        39576   \n",
       "371524           smart                no  2016-03-05 00:00:00        26135   \n",
       "371525      volkswagen                no  2016-03-19 00:00:00        87439   \n",
       "371526      volkswagen               NaN  2016-03-20 00:00:00        40764   \n",
       "371527             bmw                no  2016-03-07 00:00:00        73326   \n",
       "\n",
       "                  last_seen  \n",
       "0       2016-04-07 03:16:57  \n",
       "1       2016-04-07 01:46:50  \n",
       "2       2016-04-05 12:47:46  \n",
       "3       2016-03-17 17:40:17  \n",
       "4       2016-04-06 10:17:21  \n",
       "...                     ...  \n",
       "371523  2016-04-06 00:46:52  \n",
       "371524  2016-03-11 18:17:12  \n",
       "371525  2016-04-07 07:15:26  \n",
       "371526  2016-03-24 12:45:21  \n",
       "371527  2016-03-22 03:17:10  \n",
       "\n",
       "[371528 rows x 18 columns]"
      ]
     },
     "execution_count": 19,
     "metadata": {},
     "output_type": "execute_result"
    }
   ],
   "source": [
    "autos"
   ]
  },
  {
   "cell_type": "markdown",
   "id": "7ff54c65",
   "metadata": {},
   "source": [
    "Now let's see if there is any outliers in the numeric values."
   ]
  },
  {
   "cell_type": "code",
   "execution_count": 20,
   "id": "310e28b9",
   "metadata": {},
   "outputs": [
    {
     "data": {
      "text/plain": [
       "2147483647"
      ]
     },
     "execution_count": 20,
     "metadata": {},
     "output_type": "execute_result"
    }
   ],
   "source": [
    "autos['price'].max()"
   ]
  },
  {
   "cell_type": "code",
   "execution_count": 21,
   "id": "715200ab",
   "metadata": {},
   "outputs": [
    {
     "name": "stdout",
     "output_type": "stream",
     "text": [
      "20000\n",
      "0\n"
     ]
    }
   ],
   "source": [
    "print(autos['power_ps'].max())\n",
    "print(autos['power_ps'].min())"
   ]
  },
  {
   "cell_type": "markdown",
   "id": "f651521f",
   "metadata": {},
   "source": [
    "Here we can see that the `price` and `power_ps` columns have outliers so we need to clean that."
   ]
  },
  {
   "cell_type": "code",
   "execution_count": 22,
   "id": "1d693696",
   "metadata": {},
   "outputs": [
    {
     "data": {
      "text/plain": [
       "count    3.715280e+05\n",
       "mean     1.729514e+04\n",
       "std      3.587954e+06\n",
       "min      0.000000e+00\n",
       "25%      1.150000e+03\n",
       "50%      2.950000e+03\n",
       "75%      7.200000e+03\n",
       "max      2.147484e+09\n",
       "Name: price, dtype: float64"
      ]
     },
     "execution_count": 22,
     "metadata": {},
     "output_type": "execute_result"
    }
   ],
   "source": [
    "autos['price'].describe()"
   ]
  },
  {
   "cell_type": "code",
   "execution_count": 23,
   "id": "a557ed68",
   "metadata": {},
   "outputs": [],
   "source": [
    "autos = autos[autos['price'] <= 1500000].dropna()"
   ]
  },
  {
   "cell_type": "markdown",
   "id": "ab9f2354",
   "metadata": {},
   "source": [
    "After observing some data about the `price` column, I decided that any row with price higher than 1.5 million should be removed."
   ]
  },
  {
   "cell_type": "code",
   "execution_count": 24,
   "id": "cc786628",
   "metadata": {
    "scrolled": true
   },
   "outputs": [
    {
     "data": {
      "text/plain": [
       "count    260946.000000\n",
       "mean        126.330317\n",
       "std         145.278946\n",
       "min           0.000000\n",
       "25%          78.000000\n",
       "50%         116.000000\n",
       "75%         150.000000\n",
       "max       20000.000000\n",
       "Name: power_ps, dtype: float64"
      ]
     },
     "execution_count": 24,
     "metadata": {},
     "output_type": "execute_result"
    }
   ],
   "source": [
    "autos['power_ps'].describe()"
   ]
  },
  {
   "cell_type": "code",
   "execution_count": 25,
   "id": "34ee01a4",
   "metadata": {},
   "outputs": [],
   "source": [
    "autos = autos[(autos['power_ps'] >= 50) & (autos['power_ps'] <= 500)].dropna()"
   ]
  },
  {
   "cell_type": "markdown",
   "id": "5a0490d2",
   "metadata": {},
   "source": [
    "After observing some data from `power_ps` column, I decided to remove all rows that have values less than 50 and more than 500 in the `power_ps` column."
   ]
  },
  {
   "cell_type": "code",
   "execution_count": 26,
   "id": "75459243",
   "metadata": {},
   "outputs": [
    {
     "name": "stdout",
     "output_type": "stream",
     "text": [
      "crawled_date\n",
      "2016-03-05    0.026446\n",
      "2016-03-06    0.014699\n",
      "2016-03-07    0.035918\n",
      "2016-03-08    0.032971\n",
      "2016-03-09    0.033630\n",
      "2016-03-10    0.032106\n",
      "2016-03-11    0.032623\n",
      "2016-03-12    0.036868\n",
      "2016-03-13    0.016259\n",
      "2016-03-14    0.036003\n",
      "2016-03-15    0.032599\n",
      "2016-03-16    0.029563\n",
      "2016-03-17    0.030990\n",
      "2016-03-18    0.012685\n",
      "2016-03-19    0.034871\n",
      "2016-03-20    0.036399\n",
      "2016-03-21    0.035352\n",
      "2016-03-22    0.031839\n",
      "2016-03-23    0.032174\n",
      "2016-03-24    0.029951\n",
      "2016-03-25    0.032587\n",
      "2016-03-26    0.032389\n",
      "2016-03-27    0.030222\n",
      "2016-03-28    0.035227\n",
      "2016-03-29    0.034632\n",
      "2016-03-30    0.033254\n",
      "2016-03-31    0.031952\n",
      "2016-04-01    0.034746\n",
      "2016-04-02    0.035461\n",
      "2016-04-03    0.039605\n",
      "2016-04-04    0.038618\n",
      "2016-04-05    0.012423\n",
      "2016-04-06    0.003311\n",
      "2016-04-07    0.001629\n",
      "Name: proportion, dtype: float64\n"
     ]
    }
   ],
   "source": [
    "print(autos['crawled_date'].str[:10].value_counts(normalize=True, dropna=False).sort_index())"
   ]
  },
  {
   "cell_type": "code",
   "execution_count": 27,
   "id": "4181f5b0",
   "metadata": {},
   "outputs": [
    {
     "name": "stdout",
     "output_type": "stream",
     "text": [
      "count    34.000000\n",
      "mean      0.029412\n",
      "std       0.009700\n",
      "min       0.001629\n",
      "25%       0.030019\n",
      "50%       0.032593\n",
      "75%       0.035138\n",
      "max       0.039605\n",
      "Name: proportion, dtype: float64\n"
     ]
    }
   ],
   "source": [
    "print(autos['crawled_date'].str[:10].value_counts(normalize=True, dropna=False).sort_index().describe())"
   ]
  },
  {
   "cell_type": "markdown",
   "id": "db79473f",
   "metadata": {},
   "source": [
    "After observing some statistical data for the `crawled_date` column we can conclude that:\n",
    "- The majority of the values (75%) fall within the range of 0.030018 to 0.035124, suggesting a relatively narrow spread for most of the data.\n",
    "- The dataset is right-skewed, as the mean is less than the median, and the maximum value is farther from the mean than the minimum value."
   ]
  },
  {
   "cell_type": "code",
   "execution_count": 28,
   "id": "71b166d6",
   "metadata": {},
   "outputs": [
    {
     "name": "stdout",
     "output_type": "stream",
     "text": [
      "ad_created\n",
      "2015-03-20    0.000004\n",
      "2015-08-07    0.000004\n",
      "2015-08-10    0.000004\n",
      "2015-09-04    0.000008\n",
      "2015-09-09    0.000004\n",
      "                ...   \n",
      "2016-04-03    0.039827\n",
      "2016-04-04    0.038634\n",
      "2016-04-05    0.011291\n",
      "2016-04-06    0.003295\n",
      "2016-04-07    0.001577\n",
      "Name: proportion, Length: 105, dtype: float64\n"
     ]
    }
   ],
   "source": [
    "print(autos['ad_created'].str[:10].value_counts(normalize=True, dropna=False).sort_index())"
   ]
  },
  {
   "cell_type": "code",
   "execution_count": 29,
   "id": "a37ef47c",
   "metadata": {
    "scrolled": true
   },
   "outputs": [
    {
     "name": "stdout",
     "output_type": "stream",
     "text": [
      "count    105.000000\n",
      "mean       0.009524\n",
      "std        0.014763\n",
      "min        0.000004\n",
      "25%        0.000008\n",
      "50%        0.000028\n",
      "75%        0.029870\n",
      "max        0.039827\n",
      "Name: proportion, dtype: float64\n"
     ]
    }
   ],
   "source": [
    "print(autos['ad_created'].str[:10].value_counts(normalize=True, dropna=False).sort_index().describe())"
   ]
  },
  {
   "cell_type": "markdown",
   "id": "ab79dac2",
   "metadata": {},
   "source": [
    "After observing some statistical data for the `ad_created` column we can conclude that:\n",
    "- The majority of the values (75%) fall within the range of 0.000008 to 0.029860, suggesting a wide spread of values in the dataset.\n",
    "- The data is right-skewed, as the mean is less than the median, and the maximum value is farther from the mean than the minimum value.\n",
    "- The range between the 25th and 75th percentiles is substantial, indicating variability in the central part of the distribution."
   ]
  },
  {
   "cell_type": "code",
   "execution_count": 30,
   "id": "b450e526",
   "metadata": {},
   "outputs": [
    {
     "name": "stdout",
     "output_type": "stream",
     "text": [
      "last_seen\n",
      "2016-03-05    0.001193\n",
      "2016-03-06    0.003877\n",
      "2016-03-07    0.004912\n",
      "2016-03-08    0.007244\n",
      "2016-03-09    0.008853\n",
      "2016-03-10    0.010361\n",
      "2016-03-11    0.012071\n",
      "2016-03-12    0.022141\n",
      "2016-03-13    0.007964\n",
      "2016-03-14    0.011566\n",
      "2016-03-15    0.015406\n",
      "2016-03-16    0.015479\n",
      "2016-03-17    0.027190\n",
      "2016-03-18    0.006614\n",
      "2016-03-19    0.015248\n",
      "2016-03-20    0.018773\n",
      "2016-03-21    0.019190\n",
      "2016-03-22    0.019432\n",
      "2016-03-23    0.017047\n",
      "2016-03-24    0.018414\n",
      "2016-03-25    0.017880\n",
      "2016-03-26    0.014913\n",
      "2016-03-27    0.015657\n",
      "2016-03-28    0.021062\n",
      "2016-03-29    0.022626\n",
      "2016-03-30    0.022905\n",
      "2016-03-31    0.023552\n",
      "2016-04-01    0.023443\n",
      "2016-04-02    0.023984\n",
      "2016-04-03    0.024684\n",
      "2016-04-04    0.024938\n",
      "2016-04-05    0.132866\n",
      "2016-04-06    0.230739\n",
      "2016-04-07    0.137777\n",
      "Name: proportion, dtype: float64\n"
     ]
    }
   ],
   "source": [
    "print(autos['last_seen'].str[:10].value_counts(normalize=True, dropna=False).sort_index())"
   ]
  },
  {
   "cell_type": "code",
   "execution_count": 31,
   "id": "259eebeb",
   "metadata": {},
   "outputs": [
    {
     "name": "stdout",
     "output_type": "stream",
     "text": [
      "count    34.000000\n",
      "mean      0.029412\n",
      "std       0.046048\n",
      "min       0.001193\n",
      "25%       0.011692\n",
      "50%       0.018147\n",
      "75%       0.023308\n",
      "max       0.230739\n",
      "Name: proportion, dtype: float64\n"
     ]
    }
   ],
   "source": [
    "print(autos['last_seen'].str[:10].value_counts(normalize=True, dropna=False).sort_index().describe())"
   ]
  },
  {
   "cell_type": "markdown",
   "id": "ed287640",
   "metadata": {},
   "source": [
    "After observing some statistical data for the `last_seen` column we can conclude that:\n",
    "- The majority of the values (75%) fall within the range of 0.011690 to 0.023310, indicating a relatively narrower spread for most of the data.\n",
    "- The data is right-skewed, as the mean is less than the median, and the maximum value is farther from the mean than the minimum value.\n",
    "- The maximum value of 0.230788 is significantly higher than the mean and median, indicating a potential outlier or a distinct event where items were last seen."
   ]
  },
  {
   "cell_type": "markdown",
   "id": "52fc9aed",
   "metadata": {},
   "source": [
    "Now let's change the values in the `crawled_date`, `ad_created`, and `last_seen` columns from string to integer."
   ]
  },
  {
   "cell_type": "markdown",
   "id": "d0daaeef",
   "metadata": {},
   "source": [
    "The format will be as follows Year/Month/Day ex:\n",
    "- 2016-03-17 will be 20160317"
   ]
  },
  {
   "cell_type": "code",
   "execution_count": 32,
   "id": "1f202981",
   "metadata": {},
   "outputs": [
    {
     "data": {
      "text/plain": [
       "3         20160317\n",
       "4         20160331\n",
       "5         20160404\n",
       "6         20160401\n",
       "7         20160321\n",
       "            ...   \n",
       "371517    20160328\n",
       "371520    20160319\n",
       "371524    20160305\n",
       "371525    20160319\n",
       "371527    20160307\n",
       "Name: crawled_date, Length: 247370, dtype: int32"
      ]
     },
     "execution_count": 32,
     "metadata": {},
     "output_type": "execute_result"
    }
   ],
   "source": [
    "autos['crawled_date'] = autos['crawled_date'].str[:10].replace(\"\")\n",
    "autos['crawled_date'] = autos['crawled_date'].str.replace('-', '')\n",
    "autos['crawled_date'] = autos['crawled_date'].astype(int)\n",
    "autos['crawled_date']"
   ]
  },
  {
   "cell_type": "code",
   "execution_count": 33,
   "id": "7110ba4a",
   "metadata": {},
   "outputs": [
    {
     "data": {
      "text/plain": [
       "3         20160317\n",
       "4         20160331\n",
       "5         20160404\n",
       "6         20160401\n",
       "7         20160321\n",
       "            ...   \n",
       "371517    20160328\n",
       "371520    20160319\n",
       "371524    20160305\n",
       "371525    20160319\n",
       "371527    20160307\n",
       "Name: ad_created, Length: 247370, dtype: int32"
      ]
     },
     "execution_count": 33,
     "metadata": {},
     "output_type": "execute_result"
    }
   ],
   "source": [
    "autos['ad_created'] = autos['ad_created'].str[:10].replace(\"\")\n",
    "autos['ad_created'] = autos['ad_created'].str.replace('-', '')\n",
    "autos['ad_created'] = autos['ad_created'].astype(int)\n",
    "autos['ad_created']"
   ]
  },
  {
   "cell_type": "code",
   "execution_count": 34,
   "id": "e8d682bf",
   "metadata": {
    "scrolled": true
   },
   "outputs": [
    {
     "data": {
      "text/plain": [
       "3         20160317\n",
       "4         20160406\n",
       "5         20160406\n",
       "6         20160405\n",
       "7         20160325\n",
       "            ...   \n",
       "371517    20160402\n",
       "371520    20160319\n",
       "371524    20160311\n",
       "371525    20160407\n",
       "371527    20160322\n",
       "Name: last_seen, Length: 247370, dtype: int32"
      ]
     },
     "execution_count": 34,
     "metadata": {},
     "output_type": "execute_result"
    }
   ],
   "source": [
    "autos['last_seen'] = autos['last_seen'].str[:10].replace(\"\")\n",
    "autos['last_seen'] = autos['last_seen'].str.replace('-', '')\n",
    "autos['last_seen'] = autos['last_seen'].astype(int)\n",
    "autos['last_seen']"
   ]
  },
  {
   "cell_type": "markdown",
   "id": "93eac9c5",
   "metadata": {},
   "source": [
    "Based on all the information I gained, I conclude that no car can be registered after it has been seen, the `last_seen` column has a maximum year of 2016, so no car can be registered after 2016, that's why I decided to remove any rows that has a value more than 2016 in the `registration_year` column."
   ]
  },
  {
   "cell_type": "code",
   "execution_count": 35,
   "id": "c32006fe",
   "metadata": {},
   "outputs": [
    {
     "name": "stdout",
     "output_type": "stream",
     "text": [
      "2018\n",
      "1930\n"
     ]
    }
   ],
   "source": [
    "print(autos['registration_year'].max())\n",
    "print(autos['registration_year'].min())"
   ]
  },
  {
   "cell_type": "code",
   "execution_count": 36,
   "id": "d9c5cdb2",
   "metadata": {},
   "outputs": [],
   "source": [
    "autos = autos[autos['registration_year'] < 2016].dropna()"
   ]
  },
  {
   "cell_type": "markdown",
   "id": "88bb2b40",
   "metadata": {},
   "source": [
    "Now I am going to extract the brand names from the `name` column which is usually the first string value and save it to a new column named `brands`"
   ]
  },
  {
   "cell_type": "code",
   "execution_count": 37,
   "id": "3757c5d3",
   "metadata": {},
   "outputs": [
    {
     "data": {
      "text/plain": [
       "3               GOLF\n",
       "4              Skoda\n",
       "5                BMW\n",
       "6            Peugeot\n",
       "7                 VW\n",
       "             ...    \n",
       "371517    Volkswagen\n",
       "371520         turbo\n",
       "371524         Smart\n",
       "371525    Volkswagen\n",
       "371527           BMW\n",
       "Name: brands, Length: 247048, dtype: object"
      ]
     },
     "execution_count": 37,
     "metadata": {},
     "output_type": "execute_result"
    }
   ],
   "source": [
    "autos['brands'] = (autos['name'].str.split().str[0])\n",
    "autos['brands'] = autos['brands'].str.replace('_', \" \")\n",
    "autos['brands'] = autos['brands'].str.split().str[0]\n",
    "autos['brands']"
   ]
  },
  {
   "cell_type": "code",
   "execution_count": 38,
   "id": "bd3848ac",
   "metadata": {},
   "outputs": [],
   "source": [
    "autos['brands'] = autos['brands'].replace('VW', 'Volkswagen')\n",
    "autos['brands'] = autos['brands'].replace('Golf', 'Volkswagen')\n",
    "autos['brands'] = autos['brands'].replace('GOLF', 'Volkswagen')"
   ]
  },
  {
   "cell_type": "markdown",
   "id": "2c738f4e",
   "metadata": {},
   "source": [
    "Let's check if there are any null values in the columns."
   ]
  },
  {
   "cell_type": "code",
   "execution_count": 39,
   "id": "fa25dc42",
   "metadata": {},
   "outputs": [
    {
     "data": {
      "text/plain": [
       "crawled_date          0\n",
       "name                  0\n",
       "offer_type            0\n",
       "price                 0\n",
       "ab_test               0\n",
       "vehicle_type          0\n",
       "registration_year     0\n",
       "gearbox               0\n",
       "power_ps              0\n",
       "model                 0\n",
       "kilometers            0\n",
       "registration_month    0\n",
       "fuel_type             0\n",
       "brand                 0\n",
       "unrepaired_damage     0\n",
       "ad_created            0\n",
       "postal_code           0\n",
       "last_seen             0\n",
       "brands                0\n",
       "dtype: int64"
      ]
     },
     "execution_count": 39,
     "metadata": {},
     "output_type": "execute_result"
    }
   ],
   "source": [
    "autos.isnull().sum()"
   ]
  },
  {
   "cell_type": "markdown",
   "id": "f09276ae",
   "metadata": {},
   "source": [
    "Our columns are clear of non values and our data cleaning process is finished, now let's save the cleaned dataframe into a new csv for further analysis and summarize the data cleaning process."
   ]
  },
  {
   "cell_type": "code",
   "execution_count": 40,
   "id": "c75a4eb3",
   "metadata": {},
   "outputs": [],
   "source": [
    "autos.to_csv('cleaned_autos.csv', index=False)"
   ]
  },
  {
   "cell_type": "markdown",
   "id": "930e649a",
   "metadata": {},
   "source": [
    "**Data Cleaning Summary**\n",
    "- Changed the column names from camelcase to snakecase.\n",
    "- Removed columns that have almost the same exact value in all rows.\n",
    "- Translated German values to English.\n",
    "- Removing outliers from `price` and `power_ps` columns.\n",
    "- Changed the values in the `crawled_date`, `ad_created`, and `last_seen` columns from string to integer.\n",
    "- Removed all rows with a `registration_year` more than 2016.\n",
    "- Extracted the brand names from the `name` column and saved it to a new column named `brands`.\n",
    "- Corrected some in accurate names in the `brands` column."
   ]
  },
  {
   "cell_type": "markdown",
   "id": "fc19f2a8",
   "metadata": {},
   "source": [
    "**Exploring price by brand**"
   ]
  },
  {
   "cell_type": "code",
   "execution_count": 41,
   "id": "14f5a084",
   "metadata": {},
   "outputs": [
    {
     "name": "stdout",
     "output_type": "stream",
     "text": [
      "brands\n",
      "Volkswagen         45407\n",
      "BMW                26134\n",
      "Mercedes           22857\n",
      "Audi               22262\n",
      "Opel               21143\n",
      "                   ...  \n",
      "Tausch/verkaufe        1\n",
      "TOLLEN                 1\n",
      "Suessen                1\n",
      "civic                  1\n",
      "turbo                  1\n",
      "Name: count, Length: 3444, dtype: int64\n"
     ]
    }
   ],
   "source": [
    "brands_counts = autos['brands'].value_counts()\n",
    "print(brands_counts)"
   ]
  },
  {
   "cell_type": "code",
   "execution_count": 42,
   "id": "cc3b3492",
   "metadata": {},
   "outputs": [
    {
     "name": "stdout",
     "output_type": "stream",
     "text": [
      "Index(['Volkswagen', 'BMW', 'Mercedes', 'Audi', 'Opel', 'Ford', 'Renault',\n",
      "       'Peugeot', 'Fiat', 'Seat', 'Skoda', 'Mazda', 'Toyota', 'Nissan',\n",
      "       'Hyundai'],\n",
      "      dtype='object', name='brands')\n"
     ]
    }
   ],
   "source": [
    "top_brands = brands_counts.head(15).index\n",
    "print(top_brands)"
   ]
  },
  {
   "cell_type": "code",
   "execution_count": 43,
   "id": "da8b0e14",
   "metadata": {},
   "outputs": [
    {
     "name": "stdout",
     "output_type": "stream",
     "text": [
      "Dictionary of Aggregate Data:\n",
      "{'Volkswagen': 6639.991388992887, 'BMW': 9734.849812504783, 'Mercedes': 9509.565472284201, 'Audi': 10353.109783487558, 'Opel': 3710.8284065648204, 'Ford': 4565.643902105551, 'Renault': 3073.5823680823682, 'Peugeot': 3866.912906610703, 'Fiat': 3527.310889929742, 'Seat': 5326.49678751721, 'Skoda': 7187.623603691112, 'Mazda': 4894.16572077185, 'Toyota': 5734.276511698572, 'Nissan': 5629.988711819389, 'Hyundai': 6304.670463791701}\n"
     ]
    }
   ],
   "source": [
    "aggregate_data = {}\n",
    "\n",
    "for brand in top_brands:\n",
    "    brand_subset = autos[autos['brands'] == brand]\n",
    "    mean_price = brand_subset['price'].mean()\n",
    "    aggregate_data[brand] = mean_price\n",
    "\n",
    "print(\"Dictionary of Aggregate Data:\")\n",
    "print(aggregate_data)"
   ]
  },
  {
   "cell_type": "markdown",
   "id": "75ab377c",
   "metadata": {},
   "source": [
    "Analysis:\n",
    "- The dictionary provides the mean prices for the top 15 brands in the given DataFrame. This information can be valuable for understanding the average pricing trends for each brand. Brands with higher mean prices may indicate premium products, while lower mean prices may suggest more affordable options. The analysis can be further extended by considering additional factors such as sales volume, customer ratings, or product categories to gain a comprehensive understanding of the market dynamics."
   ]
  }
 ],
 "metadata": {
  "kernelspec": {
   "display_name": "Python 3 (ipykernel)",
   "language": "python",
   "name": "python3"
  },
  "language_info": {
   "codemirror_mode": {
    "name": "ipython",
    "version": 3
   },
   "file_extension": ".py",
   "mimetype": "text/x-python",
   "name": "python",
   "nbconvert_exporter": "python",
   "pygments_lexer": "ipython3",
   "version": "3.11.5"
  }
 },
 "nbformat": 4,
 "nbformat_minor": 5
}
