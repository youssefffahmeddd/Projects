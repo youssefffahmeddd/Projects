{
 "cells": [
  {
   "cell_type": "markdown",
   "id": "aae7f60e",
   "metadata": {},
   "source": [
    "# Guided Project: Profitable App Profiles for the App Store and Google Play Markets"
   ]
  },
  {
   "cell_type": "markdown",
   "id": "af2422a3",
   "metadata": {},
   "source": [
    "This is a Jupyter Notebook for a DataQuest guided project.  The goal of this project is to analayse datasets relating to iOS and Android Apps, to answer the following question:\n",
    "\n",
    "* What types of apps are more likely to attract users?"
   ]
  },
  {
   "cell_type": "markdown",
   "id": "7ee19902",
   "metadata": {},
   "source": [
    "## Datasets we are using"
   ]
  },
  {
   "cell_type": "markdown",
   "id": "f9784bc3",
   "metadata": {},
   "source": [
    "We will be using two datasets for this project:\n",
    "\n",
    "* The first is [a dataset](https://dq-content.s3.amazonaws.com/350/googleplaystore.csv) containing data from about 10,000 Android Apps, first collected in 2018.  Documentation is available [here](https://www.kaggle.com/lava18/google-play-store-apps)\n",
    "* The second is [a similar dataset](https://dq-content.s3.amazonaws.com/350/AppleStore.csv) containing data from about 7,000 iOS Apps, collected in 2017.  Documentation is available [here](https://www.kaggle.com/ramamet4/app-store-apple-data-set-10k-apps) "
   ]
  },
  {
   "cell_type": "markdown",
   "id": "5789cb69",
   "metadata": {},
   "source": [
    "## Importing data"
   ]
  },
  {
   "cell_type": "markdown",
   "id": "913373c1",
   "metadata": {},
   "source": [
    "We will start by importing the datasets into two lists, one called `ios_apps` and one called `android_apps`, and store the headers separately in `ios_apps_header` and `android_apps_header`."
   ]
  },
  {
   "cell_type": "code",
   "execution_count": 4,
   "id": "49def364",
   "metadata": {},
   "outputs": [
    {
     "name": "stdout",
     "output_type": "stream",
     "text": [
      "['id', 'track_name', 'size_bytes', 'currency', 'price', 'rating_count_tot', 'rating_count_ver', 'user_rating', 'user_rating_ver', 'ver', 'cont_rating', 'prime_genre', 'sup_devices.num', 'ipadSc_urls.num', 'lang.num', 'vpp_lic'] [['389801252', 'Instagram', '113954816', 'USD', '0.0', '2161558', '1289', '4.5', '4.0', '10.23', '12+', 'Photo & Video', '37', '0', '29', '1'], ['529479190', 'Clash of Clans', '116476928', 'USD', '0.0', '2130805', '579', '4.5', '4.5', '9.24.12', '9+', 'Games', '38', '5', '18', '1'], ['420009108', 'Temple Run', '65921024', 'USD', '0.0', '1724546', '3842', '4.5', '4.0', '1.6.2', '9+', 'Games', '40', '5', '1', '1'], ['284035177', 'Pandora - Music & Radio', '130242560', 'USD', '0.0', '1126879', '3594', '4.0', '4.5', '8.4.1', '12+', 'Music', '37', '4', '1', '1']]\n",
      "['App', 'Category', 'Rating', 'Reviews', 'Size', 'Installs', 'Type', 'Price', 'Content Rating', 'Genres', 'Last Updated', 'Current Ver', 'Android Ver'] [['Coloring book moana', 'ART_AND_DESIGN', '3.9', '967', '14M', '500,000+', 'Free', '0', 'Everyone', 'Art & Design;Pretend Play', 'January 15, 2018', '2.0.0', '4.0.3 and up'], ['U Launcher Lite â\\x80\\x93 FREE Live Cool Themes, Hide Apps', 'ART_AND_DESIGN', '4.7', '87510', '8.7M', '5,000,000+', 'Free', '0', 'Everyone', 'Art & Design', 'August 1, 2018', '1.2.4', '4.0.3 and up'], ['Sketch - Draw & Paint', 'ART_AND_DESIGN', '4.5', '215644', '25M', '50,000,000+', 'Free', '0', 'Teen', 'Art & Design', 'June 8, 2018', 'Varies with device', '4.2 and up'], ['Pixel Draw - Number Art Coloring Book', 'ART_AND_DESIGN', '4.3', '967', '2.8M', '100,000+', 'Free', '0', 'Everyone', 'Art & Design;Creativity', 'June 20, 2018', '1.1', '4.4 and up']]\n"
     ]
    }
   ],
   "source": [
    "import csv # import csv functionality to assist with reading the lists\n",
    "\n",
    "# Importing iOS dataset into ios_apps and ios_apps_header\n",
    "opened_ios_file = open(r\"C:\\Users\\youss\\Downloads\\AppleStore.csv\", encoding='unicode_escape')\n",
    "read_ios_file = csv.reader(opened_ios_file)\n",
    "list_ios_file = list(read_ios_file)\n",
    "ios_apps = list_ios_file[1:]\n",
    "ios_apps_header = list_ios_file[0]\n",
    "\n",
    "# Importing Android dataset into android_apps and android_apps_header\n",
    "opened_android_file = open(r\"C:\\Users\\youss\\Downloads\\googleplaystore.csv\", encoding='unicode_escape')\n",
    "read_android_file = csv.reader(opened_android_file)\n",
    "list_android_file = list(read_android_file)\n",
    "android_apps = list_android_file[1:]\n",
    "android_apps_header = list_android_file[0]\n",
    "\n",
    "# Print sample rows to check list extracted correctly\n",
    "print(ios_apps_header, ios_apps[1:5])\n",
    "print(android_apps_header, android_apps[1:5]) "
   ]
  },
  {
   "cell_type": "markdown",
   "id": "0383b487",
   "metadata": {},
   "source": [
    "We can define a function `explore_data(dataset, start, end, rows_and_columns=False)`, which will help us easily extract data from the lists and format appropriately.  The function takes four parameters:\n",
    "\n",
    "* `dataset` (string), which is the list of data to explore\n",
    "* `start` (integer), which is the starting point of the slice of data\n",
    "* `end` (integer), whcih is the end point of the slice of data\n",
    "* `rows_and_columns` (Boolean, default False) which provides how many rows and columns were extracted by the function"
   ]
  },
  {
   "cell_type": "code",
   "execution_count": 5,
   "id": "081942e0",
   "metadata": {},
   "outputs": [],
   "source": [
    "def explore_data(dataset, start, end, rows_and_columns=False):\n",
    "    dataset_slice = dataset[start:end]    \n",
    "    for row in dataset_slice:\n",
    "        print(row)\n",
    "        print('\\n') # adds a new (empty) line after each row\n",
    "\n",
    "    if rows_and_columns:\n",
    "        print('Number of rows:', len(dataset))\n",
    "        print('Number of columns:', len(dataset[0]))"
   ]
  },
  {
   "cell_type": "markdown",
   "id": "3da1fcf9",
   "metadata": {},
   "source": [
    "For example, to see the first ten rows of data in `android_apps`, and show how many rows and columns are in the dataset, we can write the following?"
   ]
  },
  {
   "cell_type": "code",
   "execution_count": 6,
   "id": "3aebb0dd",
   "metadata": {},
   "outputs": [
    {
     "name": "stdout",
     "output_type": "stream",
     "text": [
      "['Photo Editor & Candy Camera & Grid & ScrapBook', 'ART_AND_DESIGN', '4.1', '159', '19M', '10,000+', 'Free', '0', 'Everyone', 'Art & Design', 'January 7, 2018', '1.0.0', '4.0.3 and up']\n",
      "\n",
      "\n",
      "['Coloring book moana', 'ART_AND_DESIGN', '3.9', '967', '14M', '500,000+', 'Free', '0', 'Everyone', 'Art & Design;Pretend Play', 'January 15, 2018', '2.0.0', '4.0.3 and up']\n",
      "\n",
      "\n",
      "['U Launcher Lite â\\x80\\x93 FREE Live Cool Themes, Hide Apps', 'ART_AND_DESIGN', '4.7', '87510', '8.7M', '5,000,000+', 'Free', '0', 'Everyone', 'Art & Design', 'August 1, 2018', '1.2.4', '4.0.3 and up']\n",
      "\n",
      "\n",
      "['Sketch - Draw & Paint', 'ART_AND_DESIGN', '4.5', '215644', '25M', '50,000,000+', 'Free', '0', 'Teen', 'Art & Design', 'June 8, 2018', 'Varies with device', '4.2 and up']\n",
      "\n",
      "\n",
      "['Pixel Draw - Number Art Coloring Book', 'ART_AND_DESIGN', '4.3', '967', '2.8M', '100,000+', 'Free', '0', 'Everyone', 'Art & Design;Creativity', 'June 20, 2018', '1.1', '4.4 and up']\n",
      "\n",
      "\n",
      "['Paper flowers instructions', 'ART_AND_DESIGN', '4.4', '167', '5.6M', '50,000+', 'Free', '0', 'Everyone', 'Art & Design', 'March 26, 2017', '1.0', '2.3 and up']\n",
      "\n",
      "\n",
      "['Smoke Effect Photo Maker - Smoke Editor', 'ART_AND_DESIGN', '3.8', '178', '19M', '50,000+', 'Free', '0', 'Everyone', 'Art & Design', 'April 26, 2018', '1.1', '4.0.3 and up']\n",
      "\n",
      "\n",
      "['Infinite Painter', 'ART_AND_DESIGN', '4.1', '36815', '29M', '1,000,000+', 'Free', '0', 'Everyone', 'Art & Design', 'June 14, 2018', '6.1.61.1', '4.2 and up']\n",
      "\n",
      "\n",
      "['Garden Coloring Book', 'ART_AND_DESIGN', '4.4', '13791', '33M', '1,000,000+', 'Free', '0', 'Everyone', 'Art & Design', 'September 20, 2017', '2.9.2', '3.0 and up']\n",
      "\n",
      "\n",
      "['Kids Paint Free - Drawing Fun', 'ART_AND_DESIGN', '4.7', '121', '3.1M', '10,000+', 'Free', '0', 'Everyone', 'Art & Design;Creativity', 'July 3, 2018', '2.8', '4.0.3 and up']\n",
      "\n",
      "\n",
      "Number of rows: 10841\n",
      "Number of columns: 13\n",
      "None\n"
     ]
    }
   ],
   "source": [
    "# Show first ten rows of data in Android dataset, and show how many rowns and columns are in the dataset.\n",
    "print(explore_data(android_apps, 0, 10, True))"
   ]
  },
  {
   "cell_type": "markdown",
   "id": "5a3dbe04",
   "metadata": {},
   "source": [
    "## Data Cleaning Part 1: Removing Incorrect Data"
   ]
  },
  {
   "cell_type": "markdown",
   "id": "949a2962",
   "metadata": {},
   "source": [
    "If we look at [this discussion](https://www.kaggle.com/datasets/lava18/google-play-store-apps/discussion/66015) it becomes clear that one of the rows (at index 10472) is missing data - it doesn't have a **genre** populated."
   ]
  },
  {
   "cell_type": "code",
   "execution_count": 8,
   "id": "62a55105",
   "metadata": {},
   "outputs": [
    {
     "name": "stdout",
     "output_type": "stream",
     "text": [
      "['App', 'Category', 'Rating', 'Reviews', 'Size', 'Installs', 'Type', 'Price', 'Content Rating', 'Genres', 'Last Updated', 'Current Ver', 'Android Ver']\n",
      "['Life Made WI-Fi Touchscreen Photo Frame', '1.9', '19', '3.0M', '1,000+', 'Free', '0', 'Everyone', '', 'February 11, 2018', '1.0.19', '4.0 and up']\n"
     ]
    }
   ],
   "source": [
    "print(android_apps_header)\n",
    "\n",
    "# Empty value at column 9 inidicates this row is missing genre\n",
    "print(android_apps[10472])"
   ]
  },
  {
   "cell_type": "markdown",
   "id": "f247ab13",
   "metadata": {},
   "source": [
    "We can remove it with the `del` function, and verify it is deleted by printing the same index to verify that a new app is displayed."
   ]
  },
  {
   "cell_type": "code",
   "execution_count": 9,
   "id": "55c1d4be",
   "metadata": {},
   "outputs": [
    {
     "name": "stdout",
     "output_type": "stream",
     "text": [
      "['osmino Wi-Fi: free WiFi', 'TOOLS', '4.2', '134203', '4.1M', '10,000,000+', 'Free', '0', 'Everyone', 'Tools', 'August 7, 2018', '6.06.14', '4.4 and up']\n"
     ]
    }
   ],
   "source": [
    "del android_apps[10472]\n",
    "print(android_apps[10472])"
   ]
  },
  {
   "cell_type": "markdown",
   "id": "b6c78a26",
   "metadata": {},
   "source": [
    "## Data Cleaning Part 2: Removing Duplicate Data"
   ]
  },
  {
   "cell_type": "markdown",
   "id": "feebbe16",
   "metadata": {},
   "source": [
    "Discussion on [this page](https://www.kaggle.com/datasets/ramamet4/app-store-apple-data-set-10k-apps/discussion/106176) regarding the iOS Apps Dataset also suggests there is duplicate data in this dataset.  We can write a function that iterates over the iOS dataset and isolates any duplicate apps and their index, and then remove them if necessary."
   ]
  },
  {
   "cell_type": "code",
   "execution_count": 10,
   "id": "623c2f9d",
   "metadata": {},
   "outputs": [
    {
     "name": "stdout",
     "output_type": "stream",
     "text": [
      "iOS Duplicate Apps:\n",
      "['Mannequin Challenge', 'VR Roller Coaster']\n",
      "\n",
      "\n",
      "Number of iOS Duplicate Apps:\n",
      "2\n"
     ]
    }
   ],
   "source": [
    "unique_app_names = []\n",
    "duplicate_app_names = []  \n",
    "    \n",
    "def duplicate_apps_detector(dataset, index_of_app_name):\n",
    "\n",
    "# Iterate over the dataset and build up two lists for unique and duplicate names\n",
    "\n",
    "    for row in dataset:\n",
    "        app_name = row[index_of_app_name] # index is 1 for iOS\n",
    "        if app_name not in unique_app_names:\n",
    "            unique_app_names.append(app_name)\n",
    "        else:\n",
    "            duplicate_app_names.append(app_name)\n",
    "    \n",
    "    return duplicate_app_names\n",
    "\n",
    "# Print results\n",
    "print(\"iOS Duplicate Apps:\") # 'Mannequin Challenge', and 'VR Roller Coaster'\n",
    "print(duplicate_apps_detector(ios_apps, 1))\n",
    "print('\\n')\n",
    "print(\"Number of iOS Duplicate Apps:\") # 2\n",
    "print(len(duplicate_app_names))"
   ]
  },
  {
   "cell_type": "markdown",
   "id": "7b21e4c9",
   "metadata": {},
   "source": [
    "However, inspecting the `id` for the duplicate apps shows these are in fact different apps, as they have diferent ids, therefore no action is required."
   ]
  },
  {
   "cell_type": "markdown",
   "id": "bb180deb",
   "metadata": {},
   "source": [
    "Repeating this for Android apps reveals a much larger problem though."
   ]
  },
  {
   "cell_type": "code",
   "execution_count": 11,
   "id": "0ff1c596",
   "metadata": {},
   "outputs": [
    {
     "name": "stdout",
     "output_type": "stream",
     "text": [
      "Android Duplicate Apps:\n",
      "['Quick PDF Scanner + OCR FREE', 'Box', 'Google My Business', 'ZOOM Cloud Meetings', 'join.me - Simple Meetings', 'Box', 'Zenefits', 'Google Ads', 'Google My Business', 'Slack', 'FreshBooks Classic', 'Insightly CRM', 'QuickBooks Accounting: Invoicing & Expenses', 'HipChat - Chat Built for Teams', 'Xero Accounting Software', 'MailChimp - Email, Marketing Automation', 'Crew - Free Messaging and Scheduling', 'Asana: organize team projects', 'Google Analytics', 'AdWords Express', 'Accounting App - Zoho Books', 'Invoice & Time Tracking - Zoho', 'join.me - Simple Meetings', 'Invoice 2go â\\x80\\x94 Professional Invoices and Estimates', 'SignEasy | Sign and Fill PDF and other Documents', 'Quick PDF Scanner + OCR FREE', 'Genius Scan - PDF Scanner', 'Tiny Scanner - PDF Scanner App', 'Fast Scanner : Free PDF Scan', 'Mobile Doc Scanner (MDScan) Lite', 'TurboScan: scan documents and receipts in PDF', 'Tiny Scanner Pro: PDF Doc Scan', 'Docs To Goâ\\x84¢ Free Office Suite', 'OfficeSuite : Free Office + PDF Editor', 'Slack', 'QuickBooks Accounting: Invoicing & Expenses', 'WhatsApp Messenger', 'Messenger â\\x80\\x93 Text and Video Chat for Free', 'imo free video calls and chat', 'Viber Messenger', 'Hangouts', 'WeChat', 'Telegram', 'Who', 'Google Voice', 'Android Messages', 'Firefox Focus: The privacy browser', 'Google Allo', 'Google Chrome: Fast & Secure', 'Firefox Browser fast & private', 'Puffin Web Browser', 'Opera Browser: Fast and Secure', 'Opera Mini - fast web browser', 'UC Browser Mini -Tiny Fast Private & Secure', 'UC Browser - Fast Download Private & Secure', 'Calls & Text by Mo+', 'Viber Messenger', 'Call Blocker', 'Gmail', 'Yahoo Mail â\\x80\\x93 Stay Organized', 'Hangouts', 'imo free video calls and chat', 'free video calls and chat', 'Viber Messenger', 'Skype - free IM & video calls', 'WeChat', 'Glide - Video Chat Messenger', 'Talkray - Free Calls & Texts', 'LINE: Free Calls & Messages', 'KakaoTalk: Free Calls & Text', 'OkCupid Dating', 'CMB Free Dating App', 'Hily: Dating, Chat, Match, Meet & Hook up', 'Hinge: Dating & Relationships', 'BBW Dating & Plus Size Chat', 'Casual Dating & Adult Singles - Joyride', 'EliteSingles â\\x80\\x93 Dating for Single Professionals', 'Clover Dating App', 'Moco - Chat, Meet People', 'Hot or Not - Find someone right now', 'Just She - Top Lesbian Dating', 'Once - Quality Matches Every day', 'Sudy â\\x80\\x93 Meet Elite & Rich Single', 'muzmatch: Muslim & Arab Singles, Marriage & Dating', 'Chispa, the Dating App for Latino, Latina Singles', 'Blendr - Chat, Flirt & Meet', 'Find Real Love â\\x80\\x94 YouLove Premium Dating', 'Cougar Dating Life : Date Older Women Sugar Mummy', 'stranger chat - anonymous chat', 'Millionaire Match: Rich Singles Dating App', 'Dating for 50 plus Mature Singles â\\x80\\x93 FINALLY', 'Moco+ - Chat, Meet People', 'Chat Rooms, Avatars, Date - Galaxy', 'FastMeet: Chat, Dating, Love', 'Christian Dating For Free App', 'Meet24 - Love, Chat, Singles', 'Black White Interracial Dating - Interracial Match', 'Gay Sugar Daddy Dating & Hookup â\\x80\\x93 Sudy Gay', 'Adult Dirty Emojis', 'Hide App, Private Dating, Safe Chat - PrivacyHider', 'Meet4U - Chat, Love, Singles!', '95Live -SG#1 Live Streaming App', 'Just She - Top Lesbian Dating', 'Hily: Dating, Chat, Match, Meet & Hook up', 'O-Star', 'Random Video Chat', 'Black People Meet Singles Date', 'Howlr', 'Free Dating & Flirt Chat - Choice of Love', 'Cardi B Live Stream Video Chat - Prank', 'Chat Kids - Chat Room For Kids', 'muzmatch: Muslim & Arab Singles, Marriage & Dating', 'BBW Dating & Plus Size Chat', 'Transenger â\\x80\\x93 Ts Dating and Chat for Free', 'BBW Dating & Curvy Singles Chat- LargeFriends', 'MouseMingle', 'FlirtChat - â\\x99¥Free Dating/Flirting Appâ\\x99¥', 'Live Talk - Free Text and Video Chat', 'Adult Dirty Emojis', 'Free Cam Girls - Live Webcam', 'Random Video Chat App With Strangers', 'Live Girls Talk - Free Video Chat', 'Girls Live Chat - Free Text & Video Chat', 'Free Dating App - Meet Local Singles - Flirt Chat', 'iPair-Meet, Chat, Dating', 'Free Dating Hook Up Messenger', 'Free Dating App - YoCutie - Flirt, Chat & Meet', 'Khan Academy', 'TED', 'Lumosity: #1 Brain Games & Cognitive Training App', 'Udemy - Online Courses', 'Khan Academy', 'TED', 'Duolingo: Learn Languages Free', 'Quizlet: Learn Languages & Vocab with Flashcards', 'Coursera: Online courses', 'Udemy - Online Courses', 'Udacity - Lifelong Learning', 'edX - Online Courses by Harvard, MIT & more', 'Lynda - Online Training Videos', 'Learn languages, grammar & vocabulary with Memrise', 'Brilliant', 'Babbel â\\x80\\x93 Learn Languages', 'Duolingo: Learn Languages Free', 'Rosetta Stone: Learn to Speak & Read New Languages', 'Learn languages, grammar & vocabulary with Memrise', 'Learn English with Wlingua', 'Quizlet: Learn Languages & Vocab with Flashcards', 'Google Classroom', 'Duolingo: Learn Languages Free', 'Learn 50 languages', 'Mango Languages: Lovable Language Courses', 'Rosetta Stone: Learn to Speak & Read New Languages', 'Learn languages, grammar & vocabulary with Memrise', 'Babbel â\\x80\\x93 Learn Languages', 'busuu: Learn Languages - Spanish, English & More', 'My Class Schedule: Timetable', 'Socratic - Math Answers & Homework Help', 'Google Classroom', 'ClassDojo', 'HelloTalk â\\x80\\x94 Chat, Speak & Learn Foreign Languages', 'Quizlet: Learn Languages & Vocab with Flashcards', 'busuu: Learn Languages - Spanish, English & More', 'Rosetta Stone: Learn to Speak & Read New Languages', 'Movies by Flixster, with Rotten Tomatoes', 'IMDb Movies & TV', 'Netflix', 'IMDb Movies & TV', 'Netflix', 'Tubi TV - Free Movies & TV', 'Crunchyroll - Everything Anime', 'STARZ', 'Crackle - Free TV & Movies', 'CBS - Full Episodes & Live TV', 'Nick', 'Hulu: Stream TV, Movies & more', 'FOX NOW - On Demand & Live TV', 'The CW', 'HISTORY: Watch TV Show Full Episodes & Specials', 'HBO NOW: Stream TV & Movies', 'A&E - Watch Full Episodes of TV Shows', 'VH1', 'Lifetime - Watch Full Episodes & Original Movies', 'BET NOW - Watch Shows', 'Netflix', 'Tubi TV - Free Movies & TV', 'Crackle - Free TV & Movies', 'Crunchyroll - Everything Anime', 'Nick', 'STARZ', 'Hulu: Stream TV, Movies & more', 'Food Network', 'FOX NOW - On Demand & Live TV', 'Movies by Flixster, with Rotten Tomatoes', 'HISTORY: Watch TV Show Full Episodes & Specials', 'Viki: Asian TV Dramas & Movies', 'The CW', 'Univision NOW - Live TV and On Demand', 'HBO NOW: Stream TV & Movies', 'A&E - Watch Full Episodes of TV Shows', 'VH1', 'SHOWTIME', 'MTV', 'Lifetime - Watch Full Episodes & Original Movies', 'Comedy Central', 'BET NOW - Watch Shows', 'FOX', 'Telemundo Now', 'Viki: Asian TV Dramas & Movies', 'Nick', 'Fandango Movies - Times + Tickets', 'Google Pay', 'Wells Fargo Daily Change', 'Credit Karma', 'Robinhood - Investing, No Fees', 'Digit Save Money Automatically', 'Acorns - Invest Spare Change', 'Money Lover: Expense Tracker, Budget Planner', 'Mint: Budget, Bills, Finance', 'Simple - Better Banking', 'PayPal', 'Google Pay', 'Wells Fargo Mobile', 'Capital OneÂ® Mobile', 'Grubhub: Food Delivery', 'Postmates Food Delivery: Order Eats & Alcohol', \"Domino's Pizza USA\", 'Chick-fil-A', 'Zomato - Restaurant Finder and Food Delivery App', 'Run with Map My Run', 'Weight Loss Running by Verv', 'Nike+ Run Club', 'Runtastic Running App & Mile Tracker', '8fit Workouts & Meal Planner', 'Daily Yoga - Yoga Fitness Plans', 'Pocket Yoga', 'Calorie Counter - MyFitnessPal', 'Weight Loss Running by Verv', 'Nike+ Run Club', 'Seven - 7 Minute Workout Training Challenge', 'Weight Watchers Mobile', 'Walk with Map My Walk', 'Workout Trainer: fitness coach', 'Run with Map My Run', 'Nike Training Club - Workouts & Fitness Plans', 'Fitbit Coach', 'Calorie Counter - MyFitnessPal', 'Endomondo - Running & Walking', 'Runkeeper - GPS Track Run Walk', 'Nike+ Run Club', 'Runtastic Running App & Mile Tracker', 'Calorie Counter - MyFitnessPal', 'Lose It! - Calorie Counter', 'Calorie Counter - MyNetDiary', '10 Best Foods for You', 'MyPlate Calorie Tracker', 'Weight Loss Tracker - RecStyle', 'Calorie Counter by FatSecret', 'Calorie Counter - Macros', 'My Diet Diary Calorie Counter', 'Lark - 24/7 Health Coach', 'Weight Watchers Mobile', 'Calorie Counter & Diet Tracker', 'MealLogger-Photo Food Journal', 'Health and Nutrition Guide', 'Food Calorie Calculator', 'Calorie Counter - MyFitnessPal', 'Lose It! - Calorie Counter', 'Relax Meditation: Sleep with Sleep Sounds', 'Meditation Music - Relax, Yoga', '21-Day Meditation Experience', 'Fabulous: Motivate Me! Meditate, Relax, Sleep', 'Calm - Meditate, Sleep, Relax', 'Relax Melodies: Sleep Sounds', 'Simple Habit Meditation', 'Headspace: Meditation & Mindfulness', 'Daily Yoga - Yoga Fitness Plans', 'Houzz Interior Design Ideas', 'Mortgage by Zillow: Calculator & Rates', 'Redfin Real Estate', 'Apartment List: Housing, Apt, and Property Rentals', 'Realtor.com Real Estate: Homes for Sale and Rent', 'Trulia Real Estate & Rentals', 'Zillow: Find Houses for Sale & Apartments for Rent', 'Apartments & Rentals - Zillow', 'Trulia Rent Apartments & Homes', 'Apartments.com Rental Search', 'Houzz Interior Design Ideas', 'Vaniday - Beauty Booking App', 'StyleSeat', 'JOANN - Crafts & Coupons', 'Fashion in Vogue', 'Wheretoget: Shop in style', 'My Dressing - Fashion closet', 'Chictopia', 'Scarf Fashion Designer', 'Fashion in Vogue', 'Zara', 'Subway Surfers', 'ROBLOX', 'Pou', '8 Ball Pool', 'Clash of Clans', 'Candy Crush Saga', 'Plants vs. Zombies FREE', 'My Talking Angela', 'Bubble Shooter', 'Word Search', 'Candy Crush Soda Saga', 'Fishdom', 'Block Puzzle', 'Clash Royale', 'Sniper 3D Gun Shooter: Free Shooting Games - FPS', 'Granny', 'Galaxy Attack: Alien Shooter', 'Angry Birds Rio', 'Zombie Catchers', 'Zombie Hunter King', 'Temple Run 2', 'Zombie Tsunami', 'Farm Heroes Saga', 'Super Jim Jump - pixel 3d', 'slither.io', 'Angry Birds Classic', 'Flow Free', 'ROBLOX', 'Helix Jump', 'Subway Surfers', 'Candy Crush Saga', 'Toon Blast', 'Granny', '8 Ball Pool', 'Sniper 3D Gun Shooter: Free Shooting Games - FPS', 'slither.io', 'Temple Run 2', 'Kick the Buddy', 'Magic Tiles 3', 'Bowmasters', 'Wordscapes', 'Block Craft 3D: Building Simulator Games For Free', 'Helix Jump', 'PUBG MOBILE', 'Wordscapes', 'DRAGON BALL LEGENDS', 'ROBLOX', 'Candy Crush Saga', '8 Ball Pool', 'Harry Potter: Hogwarts Mystery', 'PUBG MOBILE', 'MARVEL Strike Force', 'Merge Dragons!', 'Honkai Impact 3rd', 'Candy Crush Saga', 'ROBLOX', '8 Ball Pool', 'Subway Surfers', 'Candy Crush Soda Saga', 'Zombie Hunter King', 'Bubble Shooter', 'Toon Blast', 'Toy Blast', 'Clash Royale', 'Clash of Clans', 'Farm Heroes Saga', 'Plants vs. Zombies FREE', 'Word Search', 'Block Puzzle', 'Super Jim Jump - pixel 3d', 'Pou', 'Temple Run 2', 'Flow Free', 'Homescapes', 'Wordscapes', 'My Talking Angela', 'slither.io', 'Cooking Fever', 'Gardenscapes', 'Fishdom', 'Galaxy Attack: Alien Shooter', 'Score! Hero', 'Zombie Catchers', 'Magic Tiles 3', 'Granny', 'Dream League Soccer 2018', 'Fruits Bomb', 'Angry Birds Classic', 'Talking Tom Gold Run', 'Bowmasters', 'My Talking Tom', 'Hill Climb Racing', 'Sniper 3D Gun Shooter: Free Shooting Games - FPS', 'Pixel Art: Color by Number Game', 'Rider', 'Zombie Tsunami', 'Garena Free Fire', 'Subway Surfers', 'Helix Jump', 'Temple Run 2', 'slither.io', 'Bowmasters', 'Talking Tom Gold Run', 'Zombie Catchers', 'Sniper 3D Gun Shooter: Free Shooting Games - FPS', 'Miraculous Ladybug & Cat Noir - The Official Game', 'Kick the Buddy', 'DRAGON BALL LEGENDS', 'Zombie Hunter King', 'Garena Free Fire', 'Candy Crush Saga', 'Plants vs. Zombies FREE', 'Block Puzzle', 'Helix Jump', '8 Ball Pool', 'Bubble Shooter', 'Solitaire', 'Traffic Racer', 'Hill Climb Racing', 'Earn to Die 2', 'Bubble Shooter 2', 'Flow Free', 'Zombie Catchers', 'Angry Birds Rio', 'Candy Crush Jelly Saga', 'Cut the Rope FULL FREE', 'Jewels Star: OZ adventure', 'Hungry Shark Evolution', 'Angry Birds Classic', 'Best Fiends - Free Puzzle Game', 'Hill Climb Racing 2', 'Swamp Attack', 'Bowmasters', 'Magic Tiles 3', 'Block Puzzle Classic Legend !', 'Pixel Art: Color by Number Game', 'Score! Hero', 'Zombie Tsunami', 'DEAD TARGET: FPS Zombie Apocalypse Survival Games', 'Word Search', 'Farm Heroes Saga', 'YouTube Kids', 'Candy Bomb', 'ROBLOX', 'Solitaire', 'Princess Coloring Book', 'Hello Kitty Nail Salon', 'Dog Run - Pet Dog Simulator', 'Coloring book moana', 'Bubble Shooter', 'Barbieâ\\x84¢ Fashion Closet', 'Minion Rush: Despicable Me Official Game', 'No.Draw - Colors by Number 2018', 'Duolingo: Learn Languages Free', 'Super ABC! Learning games for kids! Preschool apps', 'ROBLOX', 'PJ Masks: Moonlight Heroes', 'Minion Rush: Despicable Me Official Game', 'Dog Run - Pet Dog Simulator', 'Hot Wheels: Race Off', 'Farming Simulator 14', 'Mcqueen Coloring pages', 'Monster Truck Driver & Racing', 'Strawberry Shortcake BerryRush', 'DC Super Hero Girlsâ\\x84¢', 'Toca Kitchen 2', 'DC Super Hero Girlsâ\\x84¢', 'Strawberry Shortcake BerryRush', 'Disney Magic Kingdoms: Build Your Own Magical Park', 'Toca Life: City', 'Papumba Academy - Fun Learning For Kids', 'Kids Balloon Pop Game Free ð\\x9f\\x8e\\x88', 'Sounds for Toddlers FREE', 'Elmo Calls by Sesame Street', 'Sago Mini Friends', 'Papumba Academy - Fun Learning For Kids', 'Tee and Mo Bath Time Free', 'Bita and the Animals - Pelos Ares', 'TO-FU Oh!SUSHI', 'DreamWorks Friends', 'Avokiddo Emotions', 'Nighty Night Circus', 'Sago Mini Babies', \"Dr. Panda & Toto's Treehouse\", 'ROBLOX', 'PlayKids - Educational cartoons and games for kids', 'YouTube Kids', 'Baby Panda Care', 'Monster Highâ\\x84¢', 'Duolingo: Learn Languages Free', 'Shopkins World!', 'DisneyNOW â\\x80\\x93 TV Shows & Games', 'Equestria Girls', 'Frozen Free Fall', 'Nick', 'Thomas & Friends: Race On!', 'Inside Out Thought Bubbles', 'Sago Mini Friends', 'School of Dragons', 'Peak â\\x80\\x93 Brain Games & Training', 'Period Tracker', 'Vargo Anesthesia Mega App', 'Monash Uni Low FODMAP Diet', 'mySugr: the blood sugar tracker made just for you', 'Human Anatomy Atlas 2018: Complete 3D Human Body', 'ASCCP Mobile', 'Paramedic Protocol Provider', '2017 EMRA Antibiotic Guide', 'Essential Anatomy 3', 'EMT PASS', 'Block Buddy', 'EMT Review Plus', 'Journal Club: Medicine', 'Pedi STAT', 'AnatomyMapp', 'Diabetes & Diet Tracker', 'A Manual of Acupuncture', 'PTA Content Master', 'Muscle Premium - Human Anatomy, Kinesiology, Bones', 'Cardiac diagnosis (heart rate, arrhythmia)', 'Medical ID - In Case of Emergency (ICE)', 'IBM Micromedex Drug Info', 'Advanced Comprehension Therapy', 'Hospitalist Handbook', 'Teladoc Member', 'Ada - Your Health Guide', 'Ovia Fertility Tracker & Ovulation Calculator', 'Youper - AI Therapy', 'MoodSpace', 'Super Hearing Super Ear Amplifier', 'Penn State Health OnDemand', 'ScriptSave WellRx Rx Discounts', 'Free Blood Pressure', 'All Mental disorders', 'Nurse Grid', 'JH Blood Pressure Monitor', 'Blood Pressure', 'RT 516 VET', 'Anthem Anywhere', 'Sway Medical', \"fred's Pharmacy\", 'Breastfeeding Tracker Baby Log', 'Banfield Pet Health Tracker', '1800 Contacts - Lens Store', 'TextNow - free text + calls', 'Tumblr', 'Snapchat', 'Instagram', 'Periscope - Live Video', 'Snapchat', 'Instagram', 'Pinterest', 'MeetMe: Chat & Meet New People', 'ooVoo Video Calls, Messaging & Stories', 'LinkedIn', 'Tango - Live Video Broadcast', 'SayHi Chat, Meet New People', 'Tapatalk - 100,000+ Forums', 'Badoo - Free Chat & Dating App', 'Nextdoor - Local neighborhood news & classifieds', 'MeetMe: Chat & Meet New People', 'Meetup', 'Text Free: WiFi Calling App', 'textPlus: Free Text & Calls', 'Meetup', 'POF Free Dating App', 'MeetMe: Chat & Meet New People', 'Tagged - Meet, Chat & Dating', 'LOVOO', 'SKOUT - Meet, Chat, Go Live', 'Badoo - Free Chat & Dating App', 'Jaumo Dating, Flirt & Live Video', 'SayHi Chat, Meet New People', 'Couple - Relationship App', 'Meetup', 'Wish - Shopping Made Fun', 'SnipSnap Coupon App', 'Extreme Coupon Finder', 'Checkout 51: Grocery coupons', 'The Coupons App', 'RetailMeNot - Coupons, Deals & Discount Shopping', 'Groupon - Shop Deals, Discounts & Coupons', 'Stocard - Rewards Cards Wallet', 'Extreme Coupon Finder', 'eBay: Buy & Sell this Summer - Discover Deals Now!', 'Checkout 51: Grocery coupons', 'Gyft - Mobile Gift Card Wallet', 'Shopkick: Free Gift Cards, Shop Rewards & Deals', 'The Coupons App', 'Shopular: Coupons, Weekly Ads & Shopping Deals', 'Wish - Shopping Made Fun', 'Carousell: Snap-Sell, Chat-Buy', 'Walmart', 'Ibotta: Cash Back Savings, Rewards & Coupons App', 'AliExpress - Smarter Shopping, Better Living', 'LivingSocial - Local Deals', 'Amazon Shopping', 'RetailMeNot - Coupons, Deals & Discount Shopping', 'Poshmark - Buy & Sell Fashion', 'Target - now with Cartwheel', 'ZALORA Fashion Shopping', 'eBay: Buy & Sell this Summer - Discover Deals Now!', 'Fancy', \"Modcloth â\\x80\\x93 Unique Indie Women's Fashion & Style\", 'Gyft - Mobile Gift Card Wallet', \"JackThreads: Men's Shopping\", 'LivingSocial - Local Deals', 'Zappos â\\x80\\x93 Shoe shopping made simple', 'Wanelo Shopping', 'Etsy: Handmade & Vintage Goods', 'Groupon - Shop Deals, Discounts & Coupons', 'eBay: Buy & Sell this Summer - Discover Deals Now!', \"JackThreads: Men's Shopping\", 'AliExpress - Smarter Shopping, Better Living', 'Slickdeals: Coupons & Shopping', 'Target - now with Cartwheel', 'Wish - Shopping Made Fun', 'Fancy', 'ASOS', 'Google Photos', 'Shutterfly: Free Prints, Photo Books, Cards, Gifts', 'InstaBeauty -Makeup Selfie Cam', 'B612 - Beauty & Filter Camera', 'BeautyPlus - Easy Photo Editor & Selfie Camera', 'YouCam Perfect - Selfie Photo Editor', 'Google Photos', 'Muzy - Share photos & collages', 'QuickPic - Photo Gallery with Google Drive Support', 'Flickr', 'Shutterfly: Free Prints, Photo Books, Cards, Gifts', 'Open Camera', 'Camera for Android', 'Cymera Camera- Photo Editor, Filter,Collage,Layout', 'Candy Camera - selfie, beauty camera, photo editor', 'Camera360: Selfie Photo Editor with Funny Sticker', 'Facetune - For Free', 'Photo Editor Selfie Camera Filter & Mirror Image', 'HD Camera for Android', 'Photo Editor Pro', 'YouCam Makeup - Magic Selfie Makeovers', 'Photo Editor-', 'Camera for Android', 'Photo Editor', 'Cymera Camera- Photo Editor, Filter,Collage,Layout', 'Adobe Photoshop Express:Photo Editor Collage Maker', 'BeautyPlus - Easy Photo Editor & Selfie Camera', 'InstaSize Photo Filters & Collage Editor', 'Candy Camera - selfie, beauty camera, photo editor', 'YouCam Perfect - Selfie Photo Editor', 'Camera360: Selfie Photo Editor with Funny Sticker', 'Facetune - For Free', 'Shutterfly: Free Prints, Photo Books, Cards, Gifts', 'BeautyPlus - Easy Photo Editor & Selfie Camera', 'CBS Sports App - Scores, News, Stats & Watch Live', 'Yahoo Fantasy Sports - #1 Rated Fantasy App', 'ESPN', 'NFL', 'Bleacher Report: sports news, scores, & highlights', 'ESPN Fantasy Sports', 'theScore: Live Sports Scores, News, Stats & Videos', 'CBS Sports App - Scores, News, Stats & Watch Live', 'ESPN', 'MLB At Bat', 'CBS Sports App - Scores, News, Stats & Watch Live', 'WatchESPN', 'Hole19: Golf GPS App, Rangefinder & Scorecard', 'Yahoo Fantasy Sports - #1 Rated Fantasy App', 'ESPN Fantasy Sports', 'CBS Sports Fantasy', 'ESPN', 'Bleacher Report: sports news, scores, & highlights', 'theScore: Live Sports Scores, News, Stats & Videos', 'CBS Sports App - Scores, News, Stats & Watch Live', 'ESPN', 'Bleacher Report: sports news, scores, & highlights', 'MLB At Bat', 'theScore: Live Sports Scores, News, Stats & Videos', 'CBS Sports App - Scores, News, Stats & Watch Live', 'Yahoo Sports - scores, stats, news, & highlights', 'WatchESPN', 'FotMob - Live Soccer Scores', 'Yahoo Fantasy Sports - #1 Rated Fantasy App', 'ESPN', 'NFL', 'US Open Tennis Championships 2018', 'Bleacher Report: sports news, scores, & highlights', 'MLB At Bat', 'FIFA - Tournaments, Soccer News & Live Scores', 'theScore: Live Sports Scores, News, Stats & Videos', 'Golfshot: Golf GPS + Tee Times', 'BBC Sport', 'CBS Sports App - Scores, News, Stats & Watch Live', 'Yahoo Sports - scores, stats, news, & highlights', 'WatchESPN', 'MLB Ballpark', 'FOX Sports: Live Streaming, Scores & News', 'Fantasy Football', 'PGA TOUR', 'UFC', 'trivago: Hotels & Travel', 'Expedia Hotels, Flights & Car Rental Travel Deals', 'TripAdvisor Hotels Flights Restaurants Attractions', 'Skyscanner', 'Booking.com Travel Deals', 'TripAdvisor Hotels Flights Restaurants Attractions', 'Priceline Hotel Deals, Rental Cars & Flights', 'United Airlines', 'Expedia Hotels, Flights & Car Rental Travel Deals', 'Southwest Airlines', 'Hopper - Watch & Book Flights', 'Fly Delta', 'KAYAK Flights, Hotels & Cars', 'American Airlines', 'Skyscanner', 'Priceline Hotel Deals, Rental Cars & Flights', 'trivago: Hotels & Travel', 'Expedia Hotels, Flights & Car Rental Travel Deals', 'KAYAK Flights, Hotels & Cars', 'Orbitz - Hotels, Flights & Package Deals', 'Skyscanner', 'Hotels.com: Book Hotel Rooms & Find Vacation Deals', 'Booking.com Travel Deals', 'Hostelworld: Hostels & Cheap Hotels Travel App', 'TripAdvisor Hotels Flights Restaurants Attractions', 'Airbnb', 'Skyscanner', 'HotelTonight: Book amazing deals at great hotels', 'Maps - Navigate & Explore', 'Google Street View', 'Calculator', 'Gboard - the Google Keyboard', 'ZEDGEâ\\x84¢ Ringtones & Wallpapers', 'ZEDGEâ\\x84¢ Ringtones & Wallpapers', 'Nova Launcher', 'Apex Launcher', 'Smart Launcher 5', 'Google Keep', 'Evernote â\\x80\\x93 Organizer, Planner for Notes & Memos', 'ES File Explorer File Manager', 'Microsoft Word', 'Google Drive', 'Adobe Acrobat Reader', 'Google PDF Viewer', 'Microsoft Excel', 'Google Docs', 'Microsoft PowerPoint', 'Microsoft OneNote', 'Google Calendar', 'Google Keep', 'Wunderlist: To-Do List & Tasks', 'Evernote â\\x80\\x93 Organizer, Planner for Notes & Memos', 'Any.do: To-do list, Calendar, Reminders & Planner', 'Todoist: To-do lists for task management & errands', 'Microsoft OneNote', 'Planner Pro-Personal Organizer', 'Google Calendar', 'Google Drive', 'Microsoft OneDrive', 'Dropbox', 'MX Player', 'Video Editor', 'Google News', 'Flipboard: News For Our Time', 'BBC News', 'Fox News â\\x80\\x93 Breaking News, Live Video & News Alerts', 'USA TODAY', 'CNN Breaking US & World News', 'Twitter', 'BBC News', 'NPR News', 'Fox News â\\x80\\x93 Breaking News, Live Video & News Alerts', 'Haystack TV: Local & World News - Free', 'ABC News - US & World News', 'USA TODAY', 'NBC News', 'The Wall Street Journal: Business & Market News', 'CNN Breaking US & World News', 'NYTimes - Latest News', 'Newsroom: News Worth Sharing', 'Google News', 'BuzzFeed: News, Tasty, Quizzes', 'Flipboard: News For Our Time', 'Snapchat', 'Flashlight', 'Pou', 'Agar.io', 'Angry Birds Classic', 'My Talking Tom', 'Netflix', 'Bubble Shooter', 'Adobe Acrobat Reader', 'Subway Surfers', 'LEGOÂ® Juniors Create & Cruise', 'WhatsApp Messenger', 'Google Translate', 'PokÃ©mon GO', 'Instagram', 'My Talking Angela', 'YouTube Kids', 'PAC-MAN', 'Colorfy: Coloring Book for Adults - Free', 'Toca Kitchen 2', 'Amazon Shopping', 'Chick-fil-A', 'YouTube', 'Flow Free', 'Microsoft Word', \"Alto's Adventure\", 'Zombie Tsunami', 'Facebook', 'B612 - Beauty & Filter Camera', 'Block Craft 3D: Building Simulator Games For Free', '8 Ball Pool', 'VPN Free - Betternet Hotspot VPN & Private Browser', 'EMT Tutor NREMT-B Study Guide', 'EMT-B Pocket Prep', 'UC Browser - Fast Download Private & Secure', 'Hungry Shark Evolution', 'Diary with lock', 'Clash of Clans', 'Clash Royale', 'C Programming', 'CppDroid - C/C++ IDE', 'Candy Crush Saga', 'Google Chrome: Fast & Secure', 'Learn C++', 'Hill Climb Racing', 'ZEDGEâ\\x84¢ Ringtones & Wallpapers', 'Minion Rush: Despicable Me Official Game', 'Google Duo - High Quality Video Calls', 'Crossy Road', 'Temple Run 2', 'Dropbox', 'Sniper 3D Gun Shooter: Free Shooting Games - FPS', 'Plants vs. Zombies FREE', 'Dream League Soccer 2018', 'eBay: Buy & Sell this Summer - Discover Deals Now!', 'ESPN', 'ES File Explorer File Manager', 'Firefox Browser fast & private', 'E*TRADE Mobile', 'WWE', 'Amazon Kindle', 'Evernote â\\x80\\x93 Organizer, Planner for Notes & Memos', 'Microsoft Edge', 'Microsoft Outlook', 'Pinterest', 'ClassDojo', 'The Coupons App', 'Ebook Reader', 'Gmail', 'Maps - Navigate & Explore', 'AliExpress - Smarter Shopping, Better Living', 'Flipkart Online Shopping App', 'Wish - Shopping Made Fun', 'Messenger â\\x80\\x93 Text and Video Chat for Free', 'Facebook Lite', 'Messenger Lite: Free Calls & Messages', 'Twitter', 'LINE: Free Calls & Messages', 'imo beta free calls and text', 'Geometry Dash World', 'Google+', 'PUBG MOBILE', 'Gboard - the Google Keyboard', 'Granny', 'Google', 'Hangouts', 'G Cloud Backup', 'Google Drive', 'Helix Jump', 'H&M', 'H TV', 'Talking Ben the Dog', 'imo free video calls and chat', 'free video calls and chat', 'slither.io', 'POF Free Dating App', 'Skype - free IM & video calls', 'Sonic Dash', 'Text Free: WiFi Calling App', 'Talkatone: Free Texts, Calls & Phone Number', 'Textgram - write on photos', 'Zombie Catchers', 'Jetpack Joyride', 'Anger of stick 5 : zombie', 'Cut the Rope FULL FREE', 'Turbo FAST', 'K PLUS', 'PowerDirector Video Editor App: 4K, Slow Mo & More', 'Fuzzy Numbers: Pre-K Number Foundation', 'KakaoTalk: Free Calls & Text', 'LiveMe - Video chat, new friends, and make money', 'Talking Tom Gold Run', 'letgo: Buy & Sell Used Stuff, Cars & Real Estate', 'Love Balls', 'Last Day on Earth: Survival', 'Minecraft', 'MEGA', 'MX Player', 'Iâ\\x80\\x99m Expecting - Pregnancy App', 'Diabetes:M', 'Opera Mini - fast web browser', 'Opera Browser: Fast and Secure', 'O-Star', 'PicsArt Photo Studio: Collage Maker & Pic Editor', 'Quora', 'ROBLOX', 'SHAREit - Transfer & Share', 'Tumblr', 'Topbuzz: Breaking News, Videos & Funny GIFs', 'Twitch: Livestream Multiplayer Games & Esports', 'Telegram', 'myAT&T', 'Truecaller: Caller ID, SMS spam blocking & Dialer', 'Showtime Anytime', 'UC Browser Mini -Tiny Fast Private & Secure', 'Uber', 'Viber Messenger', 'VLC for Android', 'Vigo Video', 'WeChat', 'Wattpad ð\\x9f\\x93\\x96 Free Books', 'Waze - GPS, Maps, Traffic Alerts & Live Navigation', 'Dating App, Flirt & Chat : W-Match', 'WPS Office - Word, Docs, PDF, Note, Slide & Sheet', 'LINE WEBTOON - Free Comics', 'WhatsApp Business', 'We Heart It', 'TripAdvisor Hotels Flights Restaurants Attractions', 'Telegram X', 'Share Music & Transfer Files - Xender', 'Yandex Browser with Protect', 'YouTube Studio', 'Yahoo Mail â\\x80\\x93 Stay Organized', 'PBS KIDS Video', 'YouTube Gaming', 'GO Keyboard - Emoticon keyboard, Free Theme, GIF', 'Zello PTT Walkie Talkie', 'Z Camera - Photo Editor, Beauty Selfie, Collage', 'Six Pack in 30 Days - Abs Workout', 'Angry Birds 2', 'Angry Birds Rio', 'AC - Tips & News for Androidâ\\x84¢', 'CM Browser - Ad Blocker , Fast Download , Privacy', 'Google Ads', 'Mobi Calculator free & AD free!', 'Flipp - Weekly Shopping', 'A&E - Watch Full Episodes of TV Shows', 'Camera FV-5 Lite', 'Cardiac diagnosis (heart rate, arrhythmia)', 'Open Camera', 'All Football - Latest News & Videos', 'Maricopa AH', 'Youper - AI Therapy', 'Animal Jam - Play Wild!', 'RULES OF SURVIVAL', 'Amazon for Tablets', 'Final Fantasy XV: A New Empire', 'The Simsâ\\x84¢ FreePlay', 'Text free - Free Text + Call', 'Google Photos', '365Scores - Live Scores', 'DINO HUNTER: DEADLY SHORES', 'AP Mobile - Breaking News', 'Reuters News', 'Puffin Web Browser', 'AccuWeather: Daily Forecast & Live Weather Reports', 'Moovit: Bus Time & Train Time Live Info', 'Jurassic Worldâ\\x84¢ Alive', 'Houzz Interior Design Ideas', 'NYTimes - Latest News', 'Overstock â\\x80\\x93 Home Decor, Furniture Shopping', 'Google Voice', 'Choices: Stories You Play', 'Runtastic Sleep Better: Sleep Cycle & Smart Alarm', 'Google Pay', 'Ringtone Maker', 'Google Allo', 'Plants vs. Zombiesâ\\x84¢ Heroes', 'CM FILE MANAGER HD', 'MLB At Bat', 'HotelTonight: Book amazing deals at great hotels', 'realestate.com.au - Buy, Rent & Sell Property', 'Video Player All Format', 'DEER HUNTER 2018', 'Video Editor', 'Google Play Games', 'ai.type Free Emoji Keyboard', 'Manga AZ - Manga Comic Reader', 'British Airways', 'American Airlines', 'Anthem BC Anywhere', 'Transit: Real-Time Transit App', 'PMHNP-BC Pocket Prep', 'BeautyPlus - Easy Photo Editor & Selfie Camera', 'Bowmasters', 'Nick', 'mySugr: the blood sugar tracker made just for you', 'Backgrounds HD (Wallpapers)', 'Blur Image Background', 'Newegg Mobile', 'Moco - Chat, Meet People', 'Hot or Not - Find someone right now', 'MeetMe: Chat & Meet New People', 'TED', 'English Dictionary - Offline', 'OkCupid Dating', 'Mint: Budget, Bills, Finance', 'English Grammar Test', 'Daily Manga - Comic & Webtoon', 'BBM - Free Calls & Messages', 'BeyondMenu Food Delivery', 'NOOK: Read eBooks & Magazines', 'NOOK App for NOOK Devices', 'Badoo - Free Chat & Dating App', 'HBO GO: Stream with TV Package', 'No Crop & Square for Instagram', 'Hungry Shark World', 'iBP Blood Pressure', 'Blood Pressure', 'Blood Pressure Log - MyDiary', 'Blood Pressure(BP) Diary', 'BP Journal - Blood Pressure Diary', 'Blood Pressure Monitor', 'Blood Pressure Companion', 'Free Blood Pressure', 'High Blood Pressure Symptoms', 'QR Scanner & Barcode Scanner 2018', 'Camera FV-5', 'Camera MX - Free Photo & Video Camera', 'Bleacher Report: sports news, scores, & highlights', 'Cardboard', 'Kick the Buddy', 'Maps & GPS Navigation â\\x80\\x94 OsmAnd', 'Beautiful Widgets Pro', 'Beautiful Widgets Free', 'HD Widgets', 'Color by Number â\\x80\\x93 New Coloring Book', 'Photo Editor by Aviary', 'UNICORN - Color By Number & Pixel Art Coloring', 'Elmo Calls by Sesame Street', '420 BZ Budeze Delivery', 'BZWBK24 mobile', 'Zoosk Dating App: Meet Singles', 'Cricbuzz - Live Cricket Scores & News', 'Cheapflights â\\x80\\x93 Flight Search', 'Chrome Beta', 'Chrome Dev', 'CJmall', 'Credit Karma', 'Castle Clash: Heroes of the Empire US', 'CM Launcher 3D - Theme, Wallpapers, Efficient', 'CM Locker - Security Lockscreen', 'CM Flashlight (Compass, SOS)', 'Ruler', 'QuickPic - Photo Gallery with Google Drive Support', 'Cartoon Network App', 'LEGOÂ® TV', 'DisneyNOW â\\x80\\x93 TV Shows & Games', 'Brit + Co', 'CT Scan Cross Sectional Anatomy', 'Shadow Fight 2', 'Curriculum vitae App CV Builder Free Resume Maker', 'The CW', 'CW Seed', 'Hulu: Stream TV, Movies & more', 'Cymera Camera- Photo Editor, Filter,Collage,Layout', 'Camera360 Lite - Selfie Camera', 'Mapy.cz - Cycling & Hiking offline maps', 'Face Filter, Selfie Editor - Sweet Camera', 'Metal Soldiers 2', \"COOKING MAMA Let's Cook!\", 'Run Sausage Run!', 'Knife Hit', 'DRAGON BALL LEGENDS', 'DC Comics', 'DC Super Hero Girlsâ\\x84¢', 'MARVEL Contest of Champions', 'MARVEL Strike Force', 'wetter.com - Weather and Radar', 'Babbel â\\x80\\x93 Learn Languages', 'CallApp: Caller ID, Blocker & Phone Call Recorder', 'LINE Camera - Photo editor', 'Racing in Car 2', 'Google PDF Viewer', 'Periscope - Live Video', 'Dungeon Hunter Champions: Epic Online Action RPG', 'Red Bull TV: Live Sports, Music & Entertainment', 'Idle Heroes', 'Duolingo: Learn Languages Free', 'Free phone calls, free texting SMS on free number', 'Phone Tracker : Family Locator', 'My Photo Keyboard', 'Whoscall - Caller ID & Block', 'Google Sheets', 'Video Downloader', 'Google Docs', 'Any.do: To-do list, Calendar, Reminders & Planner', 'Notepad & To do list', 'Polaris Office - Word, Docs, Sheets, Slide, PDF', 'Google Keep', 'Do It Later: Tasks & To-Dos', 'Todoist: To-do lists for task management & errands', 'To-Do Calendar Planner', 'Wunderlist: To-Do List & Tasks', 'TickTick: To Do List with Reminder, Day Planner', 'ColorNote Notepad Notes', 'Apex Launcher', 'Dude Perfect 2', 'Dairy Queen', 'SONIC Drive-In', \"McDonald's\", 'Wendyâ\\x80\\x99s â\\x80\\x93 Food and Offers', \"Dunkin' Donuts\", 'SUBWAYÂ®', 'Panera Bread', 'Starbucks', \"Dr. Panda & Toto's Treehouse\", 'Cache Cleaner-DU Speed Booster (booster & cleaner)', 'DU Browserâ\\x80\\x94Browse fast & fun', 'Real Racing 3', 'Equestria Girls', 'My Little Pony Celebration', 'Miraculous Ladybug & Cat Noir - The Official Game', 'My Little Pony: Harmony Quest', 'PJ Masks: Moonlight Heroes', 'The Emirates App', 'Phogy, 3D Camera', 'Weather by eltiempo.es', 'The Game of Life', 'Spanish English Translator', 'Human Anatomy Atlas 2018: Complete 3D Human Body', \"Game for KIDS: KIDS match'em\", 'CBS Sports App - Scores, News, Stats & Watch Live', 'Yahoo Fantasy Sports - #1 Rated Fantasy App', 'Dictionary - Merriam-Webster', 'Edmodo', 'busuu: Learn Languages - Spanish, English & More', 'Chess Free', 'Oxford Dictionary of English : Free', 'Masha and the Bear Child Games', 'Frozen Free Fall', 'Episode - Choose Your Story', 'The NBC App - Watch Live TV and Full Episodes', 'Moto File Manager', 'HBO NOW: Stream TV & Movies', 'Moneycontrol â\\x80\\x93 Stocks, Sensex, Mutual Funds, IPO', 'CNBC: Breaking Business News & Live Market Data', 'Google Earth', 'Groupon - Shop Deals, Discounts & Coupons', 'Google News', 'Amino: Communities and Chats', 'Nike Training Club - Workouts & Fitness Plans', 'Hangouts Dialer - Call Phones', 'Offline Maps & Navigation', 'Strawberry Shortcake Ice Cream Island', 'Home Workout - No Equipment', 'Home Security Camera WardenCam - reuse old phones', 'Food Network', 'Web Browser for Android', 'Airway Ex - Intubate. Anesthetize. Train.', 'FilterGrid - Cam&Photo Editor', 'Messages, Text and Video Chat for Messenger', 'All Social Networks', 'Premier League - Official App', 'Farm Heroes Saga', 'ESPN Fantasy Sports', 'Fallout Shelter', 'Facebook Pages Manager', 'Facebook Ads Manager', 'Who Viewed My Facebook Profile - Stalkers Visitors', 'The 5th Stand', 'Garena Free Fire', 'osmino Wi-Fi: free WiFi', 'Fun Kid Racing - Motocross', 'Podcast App: Free & Offline Podcasts by Player FM', 'Motorola FM Radio', 'FarmersOnly Dating', 'Firefox Focus: The privacy browser', 'FP Notebook', 'Slickdeals: Coupons & Shopping', 'AAFP']\n",
      "\n",
      "\n",
      "Number of Android Duplicate Apps:\n",
      "1181\n"
     ]
    }
   ],
   "source": [
    "unique_app_names = []\n",
    "duplicate_app_names = []  \n",
    "    \n",
    "def duplicate_apps_detector(dataset, index_of_app_name):\n",
    "\n",
    "# Iterate over the dataset and build up two lists for unique and duplicate names\n",
    "\n",
    "    for row in dataset:\n",
    "        app_name = row[index_of_app_name] # index is 0 for android_apps\n",
    "        if app_name not in unique_app_names:\n",
    "            unique_app_names.append(app_name)\n",
    "        else:\n",
    "            duplicate_app_names.append(app_name)\n",
    "    \n",
    "    return duplicate_app_names\n",
    "\n",
    "# Print results\n",
    "print(\"Android Duplicate Apps:\") # Too many to mention\n",
    "print(duplicate_apps_detector(android_apps, 0))\n",
    "print('\\n')\n",
    "print(\"Number of Android Duplicate Apps:\") # 1,181\n",
    "print(len(duplicate_app_names))"
   ]
  },
  {
   "cell_type": "markdown",
   "id": "94c633c3",
   "metadata": {},
   "source": [
    "This is covered in [this thread](https://www.kaggle.com/datasets/lava18/google-play-store-apps/discussion/67894) and we will need to find a way to de-duplicate these whilst maintaining the usefulness of the data.  \n",
    "\n",
    "One approach would be to keep the entry with the highest number of reviews, as these are likely to be the most recent apps.\n",
    "\n",
    "To do this, we can build a dictionary that contains app names, and the *highest* number of reviews for that app."
   ]
  },
  {
   "cell_type": "code",
   "execution_count": 12,
   "id": "935502ce",
   "metadata": {},
   "outputs": [
    {
     "name": "stdout",
     "output_type": "stream",
     "text": [
      "Total length of android_apps = 10840\n",
      "Number of duplicate apps = 1181\n",
      "Number of unique rows = 9659\n"
     ]
    }
   ],
   "source": [
    "reviews_max = {}\n",
    "\n",
    "for row in android_apps:\n",
    "    app_name = row[0]\n",
    "    reviews = float(row[3])\n",
    "    if app_name in reviews_max and reviews_max[app_name] < reviews:\n",
    "        reviews_max[app_name] = reviews\n",
    "    \n",
    "    reviews_max[app_name] = reviews\n",
    "    \n",
    "print(\"Total length of android_apps = \" + str(len(android_apps)))\n",
    "print(\"Number of duplicate apps = 1181\")\n",
    "print(\"Number of unique rows = \" + str(len(reviews_max))) # Expecting this to be 9659"
   ]
  },
  {
   "cell_type": "markdown",
   "id": "443c2097",
   "metadata": {},
   "source": [
    "We can use `reviews_max` to now produce a new version of `android_apps` which contains only the cleaned data. The code below loops through the whole dataset and checks to see if the app contains the max reviews for that app.  If it does, it is added to the cleaned data, if it's not then it's skipped.  An auxiliary list `android_apps_already_added` keeps count of which apps have been checked, to ensure there is no undue overwriting of data."
   ]
  },
  {
   "cell_type": "code",
   "execution_count": 13,
   "id": "4c38a4c6",
   "metadata": {},
   "outputs": [
    {
     "name": "stdout",
     "output_type": "stream",
     "text": [
      "Expected length of android_apps_clean: 9659\n",
      "Actual length of android_apps_clean: 9659\n",
      "Check complete!\n"
     ]
    }
   ],
   "source": [
    "android_apps_clean = []\n",
    "android_apps_already_added = []\n",
    "\n",
    "for row in android_apps:\n",
    "    app_name = row[0]\n",
    "    reviews = float(row[3])\n",
    "    if reviews == reviews_max[app_name] and app_name not in android_apps_already_added:\n",
    "        android_apps_clean.append(row)\n",
    "        android_apps_already_added.append(app_name)\n",
    "\n",
    "# Checking output is correct\n",
    "print(\"Expected length of android_apps_clean: 9659\")\n",
    "print(\"Actual length of android_apps_clean: \" + str(len(android_apps_clean)))\n",
    "\n",
    "if len(android_apps_clean) == 9659:\n",
    "    print(\"Check complete!\")"
   ]
  },
  {
   "cell_type": "markdown",
   "id": "2abb42cb",
   "metadata": {},
   "source": [
    "## Data Cleaning Part 3: Removing Apps not intended for English-speaking users"
   ]
  },
  {
   "cell_type": "markdown",
   "id": "27599c89",
   "metadata": {},
   "source": [
    "The project's goal is very much interested in identifying trends for apps which are intended for English speaking users.  Whilst the data does not have a clear flag for language, we can certainly remove apps which are clearly designed for non-English speakers, for instance those where the name of the app is written in characters outside of the English alphabet.\n",
    "\n",
    "We can identify app names which are written in such characters by iterating over the characters in the app name, and identifying whether the [ASCII number](https://en.wikipedia.org/wiki/ASCII) for **three or more characters** is greater than 127, as the range 0-127 is used to identify common English characters.  \n",
    "\n",
    "*Note, the three character check is to ensure that if an app name using an emoji, or a trademark symbol, the app is not incorrectly labelled as non-English*"
   ]
  },
  {
   "cell_type": "code",
   "execution_count": 14,
   "id": "3f2e105c",
   "metadata": {},
   "outputs": [
    {
     "name": "stdout",
     "output_type": "stream",
     "text": [
      "True\n",
      "False\n",
      "True\n",
      "True\n"
     ]
    }
   ],
   "source": [
    "def is_English_detector(app_name): # This function will return False if the app is not intended for English speakers\n",
    "    \n",
    "    number_non_English_characters = 0\n",
    "    \n",
    "    for character in app_name:\n",
    "        if ord(character) > 127:\n",
    "            number_non_English_characters += 1\n",
    "    \n",
    "    if number_non_English_characters >= 3:\n",
    "        return False\n",
    "    else:\n",
    "        return True\n",
    "\n",
    "# Examples\n",
    "\n",
    "print(is_English_detector('Instagram')) # Expecting True\n",
    "print(is_English_detector('爱奇艺PPS -《欢乐颂2》电视剧热播')) # Expecting False\n",
    "print(is_English_detector('Docs To Go™ Free Office Suite')) # Expecting True\n",
    "print(is_English_detector('Instachat 😜')) # Expecting True"
   ]
  },
  {
   "cell_type": "markdown",
   "id": "860649e4",
   "metadata": {},
   "source": [
    "We can now use this helper function to loop through the iOS dataset, and the cleaned Android data, to exclude apps not seemingly intended for English speaking audiences. Doing so removes almost 1,000 iOS Apps, and a handful of Android apps."
   ]
  },
  {
   "cell_type": "code",
   "execution_count": 15,
   "id": "563aaf04",
   "metadata": {},
   "outputs": [
    {
     "name": "stdout",
     "output_type": "stream",
     "text": [
      "Original number rows in iOS Dataset: 7197\n",
      "Length of new iOS Dataset: 5794\n",
      "Number of apps removed: 1403\n",
      "Original number rows in Android Dataset: 9659\n",
      "Length of new Android Dataset: 9268\n",
      "Number of apps removed: 391\n"
     ]
    }
   ],
   "source": [
    "cleaned_English_ios_apps = []\n",
    "cleaned_English_Android_apps = []\n",
    "\n",
    "for row in ios_apps:\n",
    "    app_name = row[1]\n",
    "    if is_English_detector(app_name):\n",
    "        cleaned_English_ios_apps.append(row)\n",
    "\n",
    "for row in android_apps_clean:\n",
    "    app_name = row[0]\n",
    "    if is_English_detector(app_name):\n",
    "        cleaned_English_Android_apps.append(row)\n",
    "\n",
    "# Checking if this has removed any apps:\n",
    "\n",
    "print(\"Original number rows in iOS Dataset: \" + str(len(ios_apps)))\n",
    "print(\"Length of new iOS Dataset: \" + str(len(cleaned_English_ios_apps)))\n",
    "print(\"Number of apps removed: \" + str((len(ios_apps)) - len(cleaned_English_ios_apps)))\n",
    "\n",
    "print(\"Original number rows in Android Dataset: \" + str(len(android_apps_clean)))\n",
    "print(\"Length of new Android Dataset: \" + str(len(cleaned_English_Android_apps)))\n",
    "print(\"Number of apps removed: \" + str((len(android_apps_clean)) - len(cleaned_English_Android_apps)))"
   ]
  },
  {
   "cell_type": "markdown",
   "id": "f4c791df",
   "metadata": {},
   "source": [
    "## Data Cleaning Part 4: Removing Paid Apps"
   ]
  },
  {
   "cell_type": "markdown",
   "id": "d55c3103",
   "metadata": {},
   "source": [
    "The goal of our analysis is to understand trends in the free-to-download category, rather than in paid apps.  So we need to continue to isolate our data to remove paid apps.  This is straightforward as price is included in the datasets - as a number in the iOS Dataset, and as the string `'Free'` in the Android Dataset"
   ]
  },
  {
   "cell_type": "code",
   "execution_count": 16,
   "id": "0b13c049",
   "metadata": {},
   "outputs": [
    {
     "name": "stdout",
     "output_type": "stream",
     "text": [
      "Original number rows in iOS Dataset: 5794\n",
      "Length of new iOS Dataset: 2970\n",
      "Number of apps removed: 2824\n",
      "\n",
      "\n",
      "Original number rows in Android Dataset: 9268\n",
      "Length of new Android Dataset: 8542\n",
      "Number of apps removed: 726\n"
     ]
    }
   ],
   "source": [
    "cleaned_English_free_ios_apps = []\n",
    "cleaned_English_free_Android_apps = []\n",
    "\n",
    "for row in cleaned_English_ios_apps:\n",
    "    price = float(row[4])\n",
    "    if price == 0.00: # iOS uses floats to store price\n",
    "        cleaned_English_free_ios_apps.append(row)\n",
    "        \n",
    "for row in cleaned_English_Android_apps:\n",
    "    price = row[6]\n",
    "    if price == 'Free': # Android dataset uses this string to denote a free app\n",
    "        cleaned_English_free_Android_apps.append(row)\n",
    "        \n",
    "# Checking if this has removed any apps:\n",
    "\n",
    "print(\"Original number rows in iOS Dataset: \" + str(len(cleaned_English_ios_apps)))\n",
    "print(\"Length of new iOS Dataset: \" + str(len(cleaned_English_free_ios_apps)))\n",
    "print(\"Number of apps removed: \" + str((len(cleaned_English_ios_apps)) - len(cleaned_English_free_ios_apps)))\n",
    "print('\\n')\n",
    "print(\"Original number rows in Android Dataset: \" + str(len(cleaned_English_Android_apps)))\n",
    "print(\"Length of new Android Dataset: \" + str(len(cleaned_English_free_Android_apps)))\n",
    "print(\"Number of apps removed: \" + str((len(cleaned_English_Android_apps)) - len(cleaned_English_free_Android_apps)))"
   ]
  },
  {
   "cell_type": "markdown",
   "id": "d1253531",
   "metadata": {},
   "source": [
    "## Data Analysis Part 1: Most Common Apps By Genre"
   ]
  },
  {
   "cell_type": "markdown",
   "id": "b59636f7",
   "metadata": {},
   "source": [
    "The findings of this project will help us validate what strategy we might want to take for building and validating an app.  We are concerned with finding apps that work well in both iOS and Android stores, which are free-to-download.  A good place to start will be with genre, and we can build frequency tables for both datasets to determine the most common genre.  Whilst knowing that a genre is popular is not necessarily a route to success, it will at least identify which apps are most common, before we look at other aspects such as ratings and reviews.\n",
    "\n",
    "The columns to use will be `'prime_genre'` (index 11) for iOS, and `'genres'`(index 9) and `'Category'` (index 1) for Android."
   ]
  },
  {
   "cell_type": "code",
   "execution_count": 17,
   "id": "13b3479f",
   "metadata": {},
   "outputs": [
    {
     "name": "stdout",
     "output_type": "stream",
     "text": [
      "{'Social Networking': 92, 'Photo & Video': 151, 'Games': 1759, 'Music': 63, 'Reference': 16, 'Health & Fitness': 58, 'Weather': 26, 'Travel': 33, 'Shopping': 74, 'News': 40, 'Navigation': 5, 'Lifestyle': 43, 'Entertainment': 224, 'Food & Drink': 26, 'Sports': 64, 'Finance': 33, 'Education': 113, 'Productivity': 50, 'Utilities': 67, 'Book': 8, 'Business': 16, 'Catalogs': 3, 'Medical': 6}\n"
     ]
    }
   ],
   "source": [
    "# Function that takes any dataset and any column index, and builds a frequency table dictionary\n",
    "def freq_table(dataset, index):\n",
    "    frequency_table = {}\n",
    "    for row in dataset:\n",
    "        value = row[index]\n",
    "        if value in frequency_table:\n",
    "            frequency_table[value] += 1\n",
    "        else:\n",
    "            frequency_table[value] = 1\n",
    "     \n",
    "    return frequency_table\n",
    "\n",
    "# Example for iOS prime_genre\n",
    "print(freq_table(cleaned_English_free_ios_apps, 11))"
   ]
  },
  {
   "cell_type": "markdown",
   "id": "03337b9c",
   "metadata": {},
   "source": [
    "With a second helper function `display_table()` we can convert this frequency_table into a sorted table of tuples to show more clearly the most popular genres"
   ]
  },
  {
   "cell_type": "code",
   "execution_count": 18,
   "id": "0ec4e5de",
   "metadata": {},
   "outputs": [
    {
     "name": "stdout",
     "output_type": "stream",
     "text": [
      "iOS Apps - frequency by genre:\n",
      "\n",
      "\n",
      "Games : 1759\n",
      "Entertainment : 224\n",
      "Photo & Video : 151\n",
      "Education : 113\n",
      "Social Networking : 92\n",
      "Shopping : 74\n",
      "Utilities : 67\n",
      "Sports : 64\n",
      "Music : 63\n",
      "Health & Fitness : 58\n",
      "Productivity : 50\n",
      "Lifestyle : 43\n",
      "News : 40\n",
      "Travel : 33\n",
      "Finance : 33\n",
      "Weather : 26\n",
      "Food & Drink : 26\n",
      "Reference : 16\n",
      "Business : 16\n",
      "Book : 8\n",
      "Medical : 6\n",
      "Navigation : 5\n",
      "Catalogs : 3\n",
      "None\n",
      "\n",
      "\n",
      "Android Apps - frequency by genre:\n",
      "\n",
      "\n",
      "Tools : 727\n",
      "Entertainment : 520\n",
      "Education : 465\n",
      "Business : 398\n",
      "Productivity : 337\n",
      "Lifestyle : 336\n",
      "Finance : 324\n",
      "Medical : 310\n",
      "Sports : 296\n",
      "Personalization : 278\n",
      "Communication : 277\n",
      "Health & Fitness : 265\n",
      "Action : 264\n",
      "Photography : 254\n",
      "News & Magazines : 243\n",
      "Social : 228\n",
      "Travel & Local : 196\n",
      "Shopping : 190\n",
      "Books & Reference : 186\n",
      "Simulation : 175\n",
      "Arcade : 158\n",
      "Dating : 154\n",
      "Video Players & Editors : 149\n",
      "Casual : 148\n",
      "Maps & Navigation : 118\n",
      "Food & Drink : 108\n",
      "Puzzle : 98\n",
      "Racing : 86\n",
      "Role Playing : 79\n",
      "Auto & Vehicles : 79\n",
      "Libraries & Demo : 78\n",
      "Strategy : 75\n",
      "House & Home : 69\n",
      "Weather : 67\n",
      "Events : 60\n",
      "Adventure : 56\n",
      "Beauty : 53\n",
      "Art & Design : 52\n",
      "Comics : 48\n",
      "Parenting : 42\n",
      "Trivia : 35\n",
      "Educational;Education : 35\n",
      "Educational : 33\n",
      "Card : 33\n",
      "Casino : 32\n",
      "Board : 32\n",
      "Education;Education : 30\n",
      "Word : 21\n",
      "Music : 17\n",
      "Casual;Pretend Play : 16\n",
      "Puzzle;Brain Games : 15\n",
      "Entertainment;Music & Video : 14\n",
      "Racing;Action & Adventure : 13\n",
      "Casual;Brain Games : 12\n",
      "Casual;Action & Adventure : 11\n",
      "Arcade;Action & Adventure : 9\n",
      "Educational;Pretend Play : 8\n",
      "Simulation;Action & Adventure : 7\n",
      "Parenting;Education : 7\n",
      "Action;Action & Adventure : 7\n",
      "Entertainment;Brain Games : 6\n",
      "Art & Design;Creativity : 6\n",
      "Parenting;Music & Video : 5\n",
      "Education;Pretend Play : 5\n",
      "Board;Brain Games : 5\n",
      "Role Playing;Pretend Play : 4\n",
      "Educational;Brain Games : 4\n",
      "Education;Creativity : 4\n",
      "Casual;Creativity : 4\n",
      "Role Playing;Action & Adventure : 3\n",
      "Puzzle;Action & Adventure : 3\n",
      "Educational;Creativity : 3\n",
      "Educational;Action & Adventure : 3\n",
      "Education;Music & Video : 3\n",
      "Education;Action & Adventure : 3\n",
      "Adventure;Action & Adventure : 3\n",
      "Video Players & Editors;Music & Video : 2\n",
      "Sports;Action & Adventure : 2\n",
      "Simulation;Pretend Play : 2\n",
      "Puzzle;Creativity : 2\n",
      "Music;Music & Video : 2\n",
      "Entertainment;Pretend Play : 2\n",
      "Entertainment;Creativity : 2\n",
      "Entertainment;Action & Adventure : 2\n",
      "Education;Brain Games : 2\n",
      "Casual;Education : 2\n",
      "Board;Action & Adventure : 2\n",
      "Trivia;Education : 1\n",
      "Travel & Local;Action & Adventure : 1\n",
      "Tools;Education : 1\n",
      "Strategy;Education : 1\n",
      "Strategy;Creativity : 1\n",
      "Simulation;Education : 1\n",
      "Role Playing;Brain Games : 1\n",
      "Racing;Pretend Play : 1\n",
      "Puzzle;Education : 1\n",
      "Parenting;Brain Games : 1\n",
      "Music & Audio;Music & Video : 1\n",
      "Lifestyle;Pretend Play : 1\n",
      "Health & Fitness;Education : 1\n",
      "Health & Fitness;Action & Adventure : 1\n",
      "Entertainment;Education : 1\n",
      "Comics;Creativity : 1\n",
      "Card;Brain Games : 1\n",
      "Card;Action & Adventure : 1\n",
      "Books & Reference;Education : 1\n",
      "Art & Design;Pretend Play : 1\n",
      "Art & Design;Action & Adventure : 1\n",
      "Arcade;Pretend Play : 1\n",
      "Adventure;Education : 1\n",
      "None\n",
      "\n",
      "\n",
      "Android Apps - frequency by category:\n",
      "\n",
      "\n",
      "FAMILY : 1634\n",
      "GAME : 799\n",
      "TOOLS : 728\n",
      "BUSINESS : 398\n",
      "PRODUCTIVITY : 337\n",
      "LIFESTYLE : 337\n",
      "FINANCE : 324\n",
      "MEDICAL : 310\n",
      "SPORTS : 292\n",
      "PERSONALIZATION : 278\n",
      "COMMUNICATION : 277\n",
      "HEALTH_AND_FITNESS : 265\n",
      "PHOTOGRAPHY : 254\n",
      "NEWS_AND_MAGAZINES : 243\n",
      "SOCIAL : 228\n",
      "TRAVEL_AND_LOCAL : 197\n",
      "SHOPPING : 190\n",
      "BOOKS_AND_REFERENCE : 186\n",
      "DATING : 154\n",
      "VIDEO_PLAYERS : 149\n",
      "MAPS_AND_NAVIGATION : 118\n",
      "FOOD_AND_DRINK : 108\n",
      "EDUCATION : 98\n",
      "AUTO_AND_VEHICLES : 79\n",
      "LIBRARIES_AND_DEMO : 78\n",
      "ENTERTAINMENT : 72\n",
      "HOUSE_AND_HOME : 69\n",
      "WEATHER : 67\n",
      "EVENTS : 60\n",
      "ART_AND_DESIGN : 56\n",
      "PARENTING : 55\n",
      "BEAUTY : 53\n",
      "COMICS : 49\n",
      "None\n"
     ]
    }
   ],
   "source": [
    "# Function that takes any dataset and any column index, and uses the existing freq_table functon to create a sorted table, in descending order\n",
    "def display_table(dataset, index):\n",
    "    table = freq_table(dataset, index)\n",
    "    table_display = []\n",
    "    for key in table:\n",
    "        key_val_as_tuple = (table[key], key)\n",
    "        table_display.append(key_val_as_tuple)\n",
    "\n",
    "    table_sorted = sorted(table_display, reverse = True)\n",
    "    for entry in table_sorted:\n",
    "        print(entry[1], ':', entry[0])\n",
    "\n",
    "# Display tables\n",
    "print(\"iOS Apps - frequency by genre:\")\n",
    "print(\"\\n\")\n",
    "print(display_table(cleaned_English_free_ios_apps, 11))\n",
    "print(\"\\n\")\n",
    "print(\"Android Apps - frequency by genre:\")\n",
    "print(\"\\n\")\n",
    "print(display_table(cleaned_English_free_Android_apps, 9))\n",
    "print(\"\\n\")\n",
    "print(\"Android Apps - frequency by category:\")\n",
    "print(\"\\n\")\n",
    "print(display_table(cleaned_English_free_Android_apps, 1))"
   ]
  },
  {
   "cell_type": "markdown",
   "id": "b17072e5",
   "metadata": {},
   "source": [
    "### Findings"
   ]
  },
  {
   "cell_type": "markdown",
   "id": "38561bdf",
   "metadata": {},
   "source": [
    "For iOS:\n",
    "\n",
    "* The most common genre is Games (by some way), followed by Entertainment\n",
    "* It is fair to say that the majority of apps are designed for entertainment, rather than having a practical purpose, although Education is fourth-highest\n",
    "\n",
    "For Android\n",
    "\n",
    "* Family is the highest category (again by some way) followed by game and tools\n",
    "\n",
    "This suggests that whilst games are not the top category of the Apple App Store, games are certainly prevalent on both platforms."
   ]
  },
  {
   "cell_type": "markdown",
   "id": "ae56dba4",
   "metadata": {},
   "source": [
    "## Data Analysis Part 2: Most Popular Apps by Genre"
   ]
  },
  {
   "cell_type": "markdown",
   "id": "d7f93015",
   "metadata": {},
   "source": [
    "Whilst knowing what the most common apps are is useful, knowing the most popular genres is crucial to understanding what will be received well in the market.\n",
    "\n",
    "We can calculate the popularity of a specific genre by identifying the average user rating for each genre in each store.  Both App Store datasets provides user ratings, but only Google provides `'Installs'` so we will need to use total number of ratings for iOS apps as a proxy for installs."
   ]
  },
  {
   "cell_type": "code",
   "execution_count": 19,
   "id": "29cb27e6",
   "metadata": {},
   "outputs": [
    {
     "name": "stdout",
     "output_type": "stream",
     "text": [
      "Social Networking 77734.16304347826\n",
      "Photo & Video 29056.139072847684\n",
      "Games 21970.818646958498\n",
      "Music 55396.01587301587\n",
      "Reference 84016.5625\n",
      "Health & Fitness 19418.620689655174\n",
      "Weather 48275.57692307692\n",
      "Travel 34115.57575757576\n",
      "Shopping 28517.72972972973\n",
      "News 22800.425\n",
      "Navigation 102592.0\n",
      "Lifestyle 17260.53488372093\n",
      "Entertainment 14782.25\n",
      "Food & Drink 33333.92307692308\n",
      "Sports 24458.953125\n",
      "Finance 26729.090909090908\n",
      "Education 6086.513274336283\n",
      "Productivity 22842.22\n",
      "Utilities 11402.611940298508\n",
      "Book 16671.0\n",
      "Business 6412.8125\n",
      "Catalogs 5195.0\n",
      "Medical 612.0\n"
     ]
    }
   ],
   "source": [
    "# Generate frequency table using helper function created above\n",
    "ios_genre_freq_table = freq_table(cleaned_English_free_ios_apps, 11)\n",
    "\n",
    "# Loop over genre in the frequency table, search App Store Dataset for that genre, and keep count of user ratings and number of ratings\n",
    "for genre in ios_genre_freq_table:\n",
    "    total = 0 # Counter for number of ratings\n",
    "    len_genre = 0 # Counter for number times that genre appears (to calculate average)\n",
    "    for row in cleaned_English_free_ios_apps:\n",
    "        genre_app = row[11]\n",
    "        if genre_app == genre:\n",
    "            number_ratings = float(row[5])\n",
    "            total += number_ratings\n",
    "            len_genre += 1\n",
    "    avg_rating = total / len_genre\n",
    "    print(genre, avg_rating)"
   ]
  },
  {
   "cell_type": "markdown",
   "id": "b0a72e73",
   "metadata": {},
   "source": [
    "Perhaps surprisingly, Navigation comes out with some of the most often rated apps, with Reference and Social Media very high.  Perhaps also surprisingly, whilst popular in terms of number of apps, games are less well often rated compared to other genres."
   ]
  },
  {
   "cell_type": "markdown",
   "id": "ce8e3f7b",
   "metadata": {},
   "source": [
    "Let's repeat the process for the Play Store, looking at the Category of the app.  We can use the installs column for this rather than use number of ratings as a proxy, though as these are in bands rather than absolute numbers, we will need to assume that `'1,000,000+'` is 1,000,000, `'10,000+'` is 10,000, and so on."
   ]
  },
  {
   "cell_type": "code",
   "execution_count": 20,
   "id": "9610b664",
   "metadata": {},
   "outputs": [
    {
     "name": "stdout",
     "output_type": "stream",
     "text": [
      "{'ART_AND_DESIGN': 56, 'AUTO_AND_VEHICLES': 79, 'BEAUTY': 53, 'BOOKS_AND_REFERENCE': 186, 'BUSINESS': 398, 'COMICS': 49, 'COMMUNICATION': 277, 'DATING': 154, 'EDUCATION': 98, 'ENTERTAINMENT': 72, 'EVENTS': 60, 'FINANCE': 324, 'FOOD_AND_DRINK': 108, 'HEALTH_AND_FITNESS': 265, 'HOUSE_AND_HOME': 69, 'LIBRARIES_AND_DEMO': 78, 'LIFESTYLE': 337, 'GAME': 799, 'FAMILY': 1634, 'MEDICAL': 310, 'SOCIAL': 228, 'SHOPPING': 190, 'PHOTOGRAPHY': 254, 'SPORTS': 292, 'TRAVEL_AND_LOCAL': 197, 'TOOLS': 728, 'PERSONALIZATION': 278, 'PRODUCTIVITY': 337, 'PARENTING': 55, 'WEATHER': 67, 'VIDEO_PLAYERS': 149, 'NEWS_AND_MAGAZINES': 243, 'MAPS_AND_NAVIGATION': 118}\n",
      "Medical 612.0\n",
      "Medical 612.0\n",
      "Medical 612.0\n",
      "Medical 612.0\n",
      "Medical 612.0\n",
      "Medical 612.0\n",
      "Medical 612.0\n",
      "Medical 612.0\n",
      "Medical 612.0\n",
      "Medical 612.0\n",
      "Medical 612.0\n",
      "Medical 612.0\n",
      "Medical 612.0\n",
      "Medical 612.0\n",
      "Medical 612.0\n",
      "Medical 612.0\n",
      "Medical 612.0\n",
      "Medical 612.0\n",
      "Medical 612.0\n",
      "Medical 612.0\n",
      "Medical 612.0\n",
      "Medical 612.0\n",
      "Medical 612.0\n",
      "Medical 612.0\n",
      "Medical 612.0\n",
      "Medical 612.0\n",
      "Medical 612.0\n",
      "Medical 612.0\n",
      "Medical 612.0\n",
      "Medical 612.0\n",
      "Medical 612.0\n",
      "Medical 612.0\n",
      "Medical 612.0\n"
     ]
    }
   ],
   "source": [
    "# Generate frequency table using helper function created above\n",
    "android_category_freq_table = freq_table(cleaned_English_free_Android_apps, 1)\n",
    "print(android_category_freq_table)\n",
    "\n",
    "# Loop over genre in the frequency table, search App Store Dataset for that genre, and keep count of installs\n",
    "for category in android_category_freq_table:\n",
    "    total = 0\n",
    "    len_category = 0\n",
    "    for row in cleaned_English_free_Android_apps:\n",
    "        category_app = row[1]\n",
    "        if category_app == category:\n",
    "            installs = row[5]\n",
    "            installs = installs.replace('+', '') # Remove the + at the end of the string\n",
    "            installs = installs.replace(',', '') # Remove comma separators\n",
    "            total += float(installs)\n",
    "            len_category += 1\n",
    "    avg_instalg = total / len_category\n",
    "    print(genre, avg_rating)"
   ]
  },
  {
   "cell_type": "code",
   "execution_count": null,
   "id": "c70c15a4",
   "metadata": {},
   "outputs": [],
   "source": []
  }
 ],
 "metadata": {
  "kernelspec": {
   "display_name": "Python 3 (ipykernel)",
   "language": "python",
   "name": "python3"
  },
  "language_info": {
   "codemirror_mode": {
    "name": "ipython",
    "version": 3
   },
   "file_extension": ".py",
   "mimetype": "text/x-python",
   "name": "python",
   "nbconvert_exporter": "python",
   "pygments_lexer": "ipython3",
   "version": "3.11.5"
  }
 },
 "nbformat": 4,
 "nbformat_minor": 5
}
